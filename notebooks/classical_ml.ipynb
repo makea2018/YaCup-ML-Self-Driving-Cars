{
 "cells": [
  {
   "cell_type": "markdown",
   "metadata": {},
   "source": [
    "Решение задачи с помощью алгоритмов классического машинного обучения"
   ]
  },
  {
   "cell_type": "markdown",
   "metadata": {},
   "source": [
    "## Импорты"
   ]
  },
  {
   "cell_type": "code",
   "execution_count": 1,
   "metadata": {},
   "outputs": [],
   "source": [
    "import os\n",
    "import typing\n",
    "from tqdm import tqdm\n",
    "\n",
    "import pandas as pd\n",
    "import json\n",
    "\n",
    "import numpy as np"
   ]
  },
  {
   "cell_type": "code",
   "execution_count": 2,
   "metadata": {},
   "outputs": [],
   "source": [
    "from datetime import datetime"
   ]
  },
  {
   "cell_type": "markdown",
   "metadata": {},
   "source": [
    "## Классы"
   ]
  },
  {
   "cell_type": "code",
   "execution_count": 3,
   "metadata": {},
   "outputs": [],
   "source": [
    "class DataFilePaths:\n",
    "    def __init__(self, testcase_path: str):\n",
    "        self.testcase_path = testcase_path\n",
    "        \n",
    "    def localization(self):\n",
    "        return os.path.join(self.testcase_path, 'localization.csv')\n",
    "    \n",
    "    def control(self):\n",
    "        return os.path.join(self.testcase_path, 'control.csv')\n",
    "    \n",
    "    def metadata(self):\n",
    "        return os.path.join(self.testcase_path, 'metadata.json')\n",
    "    \n",
    "    # exists only for test_dataset\n",
    "    def requested_stamps(self):\n",
    "        return os.path.join(self.testcase_path, 'requested_stamps.csv') "
   ]
  },
  {
   "cell_type": "markdown",
   "metadata": {},
   "source": [
    "## Функции"
   ]
  },
  {
   "cell_type": "code",
   "execution_count": 4,
   "metadata": {},
   "outputs": [],
   "source": [
    "# Load all ids of a dataset\n",
    "\n",
    "def read_testcase_ids(dataset_path: str):\n",
    "    ids = [int(case_id) for case_id in os.listdir(dataset_path) if os.path.isdir(os.path.join(dataset_path, case_id))]\n",
    "    return ids"
   ]
  },
  {
   "cell_type": "code",
   "execution_count": 5,
   "metadata": {},
   "outputs": [],
   "source": [
    "def read_localization(localization_path: str):\n",
    "    return pd.read_csv(localization_path)\n",
    "\n",
    "def read_control(control_path):\n",
    "    return pd.read_csv(control_path)\n",
    "\n",
    "def read_metadata(metadata_path: str):\n",
    "    with open(metadata_path, 'r') as f:\n",
    "        data = json.load(f)\n",
    "    return data\n",
    "\n",
    "def read_requested_stamps(requested_stamps_path: str):\n",
    "    return pd.read_csv(requested_stamps_path)\n",
    "    \n",
    "def read_testcase(dataset_path: str, testcase_id: str, is_test: bool = False):\n",
    "    testcase_path = os.path.join(dataset_path, str(testcase_id))\n",
    "    data_file_paths = DataFilePaths(testcase_path)\n",
    "    \n",
    "    testcase_data = {}\n",
    "    testcase_data['localization'] = read_localization(data_file_paths.localization())\n",
    "    testcase_data['control'] = read_control(data_file_paths.control())\n",
    "    testcase_data['metadata'] = read_metadata(data_file_paths.metadata())\n",
    "    if is_test:\n",
    "        testcase_data['requested_stamps'] = read_requested_stamps(data_file_paths.requested_stamps())\n",
    "        \n",
    "    return testcase_data"
   ]
  },
  {
   "cell_type": "code",
   "execution_count": 6,
   "metadata": {},
   "outputs": [],
   "source": [
    "def read_testcases(dataset_path: str, is_test: bool = False,\n",
    "                   testcase_ids: typing.Iterable[int] = None,\n",
    "                   amount: int | None = None):\n",
    "    result = {}\n",
    "    if testcase_ids is None:\n",
    "        if amount is None:\n",
    "            testcase_ids = read_testcase_ids(dataset_path)\n",
    "        else:\n",
    "            testcase_ids = read_testcase_ids(dataset_path)[:amount]\n",
    "    \n",
    "    for testcase_id in tqdm(testcase_ids):\n",
    "        testcase = read_testcase(dataset_path, testcase_id, is_test=is_test)\n",
    "        result[testcase_id] = testcase\n",
    "    return result"
   ]
  },
  {
   "cell_type": "markdown",
   "metadata": {
    "vscode": {
     "languageId": "plaintext"
    }
   },
   "source": [
    "## Данные"
   ]
  },
  {
   "cell_type": "code",
   "execution_count": 7,
   "metadata": {},
   "outputs": [],
   "source": [
    "# Пути до датасетов\n",
    "\n",
    "ROOT_DATA_FOLDER = \"../\"\n",
    "\n",
    "TRAIN_DATASET_PATH = os.path.join(ROOT_DATA_FOLDER, \"YaCupTrain\")\n",
    "TEST_DATASET_PATH = os.path.join(ROOT_DATA_FOLDER, \"YaCupTest\")"
   ]
  },
  {
   "cell_type": "code",
   "execution_count": 8,
   "metadata": {},
   "outputs": [
    {
     "name": "stderr",
     "output_type": "stream",
     "text": [
      " 10%|▉         | 486/5000 [00:07<01:07, 66.50it/s] \n"
     ]
    },
    {
     "ename": "ParserError",
     "evalue": "Error tokenizing data. C error: Calling read(nbytes) on source failed. Try engine='python'.",
     "output_type": "error",
     "traceback": [
      "\u001b[1;31m---------------------------------------------------------------------------\u001b[0m",
      "\u001b[1;31mParserError\u001b[0m                               Traceback (most recent call last)",
      "Cell \u001b[1;32mIn[8], line 3\u001b[0m\n\u001b[0;32m      1\u001b[0m \u001b[38;5;66;03m# Чтение train dataset\u001b[39;00m\n\u001b[1;32m----> 3\u001b[0m train_dataset \u001b[38;5;241m=\u001b[39m \u001b[43mread_testcases\u001b[49m\u001b[43m(\u001b[49m\u001b[43mTRAIN_DATASET_PATH\u001b[49m\u001b[43m,\u001b[49m\u001b[43m \u001b[49m\u001b[43mamount\u001b[49m\u001b[38;5;241;43m=\u001b[39;49m\u001b[38;5;241;43m5000\u001b[39;49m\u001b[43m)\u001b[49m\n\u001b[0;32m      4\u001b[0m \u001b[38;5;28mlen\u001b[39m(train_dataset)\n",
      "Cell \u001b[1;32mIn[6], line 12\u001b[0m, in \u001b[0;36mread_testcases\u001b[1;34m(dataset_path, is_test, testcase_ids, amount)\u001b[0m\n\u001b[0;32m      9\u001b[0m         testcase_ids \u001b[38;5;241m=\u001b[39m read_testcase_ids(dataset_path)[:amount]\n\u001b[0;32m     11\u001b[0m \u001b[38;5;28;01mfor\u001b[39;00m testcase_id \u001b[38;5;129;01min\u001b[39;00m tqdm(testcase_ids):\n\u001b[1;32m---> 12\u001b[0m     testcase \u001b[38;5;241m=\u001b[39m \u001b[43mread_testcase\u001b[49m\u001b[43m(\u001b[49m\u001b[43mdataset_path\u001b[49m\u001b[43m,\u001b[49m\u001b[43m \u001b[49m\u001b[43mtestcase_id\u001b[49m\u001b[43m,\u001b[49m\u001b[43m \u001b[49m\u001b[43mis_test\u001b[49m\u001b[38;5;241;43m=\u001b[39;49m\u001b[43mis_test\u001b[49m\u001b[43m)\u001b[49m\n\u001b[0;32m     13\u001b[0m     result[testcase_id] \u001b[38;5;241m=\u001b[39m testcase\n\u001b[0;32m     14\u001b[0m \u001b[38;5;28;01mreturn\u001b[39;00m result\n",
      "Cell \u001b[1;32mIn[5], line 21\u001b[0m, in \u001b[0;36mread_testcase\u001b[1;34m(dataset_path, testcase_id, is_test)\u001b[0m\n\u001b[0;32m     19\u001b[0m testcase_data \u001b[38;5;241m=\u001b[39m {}\n\u001b[0;32m     20\u001b[0m testcase_data[\u001b[38;5;124m'\u001b[39m\u001b[38;5;124mlocalization\u001b[39m\u001b[38;5;124m'\u001b[39m] \u001b[38;5;241m=\u001b[39m read_localization(data_file_paths\u001b[38;5;241m.\u001b[39mlocalization())\n\u001b[1;32m---> 21\u001b[0m testcase_data[\u001b[38;5;124m'\u001b[39m\u001b[38;5;124mcontrol\u001b[39m\u001b[38;5;124m'\u001b[39m] \u001b[38;5;241m=\u001b[39m \u001b[43mread_control\u001b[49m\u001b[43m(\u001b[49m\u001b[43mdata_file_paths\u001b[49m\u001b[38;5;241;43m.\u001b[39;49m\u001b[43mcontrol\u001b[49m\u001b[43m(\u001b[49m\u001b[43m)\u001b[49m\u001b[43m)\u001b[49m\n\u001b[0;32m     22\u001b[0m testcase_data[\u001b[38;5;124m'\u001b[39m\u001b[38;5;124mmetadata\u001b[39m\u001b[38;5;124m'\u001b[39m] \u001b[38;5;241m=\u001b[39m read_metadata(data_file_paths\u001b[38;5;241m.\u001b[39mmetadata())\n\u001b[0;32m     23\u001b[0m \u001b[38;5;28;01mif\u001b[39;00m is_test:\n",
      "Cell \u001b[1;32mIn[5], line 5\u001b[0m, in \u001b[0;36mread_control\u001b[1;34m(control_path)\u001b[0m\n\u001b[0;32m      4\u001b[0m \u001b[38;5;28;01mdef\u001b[39;00m \u001b[38;5;21mread_control\u001b[39m(control_path):\n\u001b[1;32m----> 5\u001b[0m     \u001b[38;5;28;01mreturn\u001b[39;00m \u001b[43mpd\u001b[49m\u001b[38;5;241;43m.\u001b[39;49m\u001b[43mread_csv\u001b[49m\u001b[43m(\u001b[49m\u001b[43mcontrol_path\u001b[49m\u001b[43m)\u001b[49m\n",
      "File \u001b[1;32md:\\Programming\\Yandex Cup\\2024\\YaCup-ML-Self-Driving-Cars\\venv\\lib\\site-packages\\pandas\\io\\parsers\\readers.py:1026\u001b[0m, in \u001b[0;36mread_csv\u001b[1;34m(filepath_or_buffer, sep, delimiter, header, names, index_col, usecols, dtype, engine, converters, true_values, false_values, skipinitialspace, skiprows, skipfooter, nrows, na_values, keep_default_na, na_filter, verbose, skip_blank_lines, parse_dates, infer_datetime_format, keep_date_col, date_parser, date_format, dayfirst, cache_dates, iterator, chunksize, compression, thousands, decimal, lineterminator, quotechar, quoting, doublequote, escapechar, comment, encoding, encoding_errors, dialect, on_bad_lines, delim_whitespace, low_memory, memory_map, float_precision, storage_options, dtype_backend)\u001b[0m\n\u001b[0;32m   1013\u001b[0m kwds_defaults \u001b[38;5;241m=\u001b[39m _refine_defaults_read(\n\u001b[0;32m   1014\u001b[0m     dialect,\n\u001b[0;32m   1015\u001b[0m     delimiter,\n\u001b[1;32m   (...)\u001b[0m\n\u001b[0;32m   1022\u001b[0m     dtype_backend\u001b[38;5;241m=\u001b[39mdtype_backend,\n\u001b[0;32m   1023\u001b[0m )\n\u001b[0;32m   1024\u001b[0m kwds\u001b[38;5;241m.\u001b[39mupdate(kwds_defaults)\n\u001b[1;32m-> 1026\u001b[0m \u001b[38;5;28;01mreturn\u001b[39;00m \u001b[43m_read\u001b[49m\u001b[43m(\u001b[49m\u001b[43mfilepath_or_buffer\u001b[49m\u001b[43m,\u001b[49m\u001b[43m \u001b[49m\u001b[43mkwds\u001b[49m\u001b[43m)\u001b[49m\n",
      "File \u001b[1;32md:\\Programming\\Yandex Cup\\2024\\YaCup-ML-Self-Driving-Cars\\venv\\lib\\site-packages\\pandas\\io\\parsers\\readers.py:620\u001b[0m, in \u001b[0;36m_read\u001b[1;34m(filepath_or_buffer, kwds)\u001b[0m\n\u001b[0;32m    617\u001b[0m _validate_names(kwds\u001b[38;5;241m.\u001b[39mget(\u001b[38;5;124m\"\u001b[39m\u001b[38;5;124mnames\u001b[39m\u001b[38;5;124m\"\u001b[39m, \u001b[38;5;28;01mNone\u001b[39;00m))\n\u001b[0;32m    619\u001b[0m \u001b[38;5;66;03m# Create the parser.\u001b[39;00m\n\u001b[1;32m--> 620\u001b[0m parser \u001b[38;5;241m=\u001b[39m TextFileReader(filepath_or_buffer, \u001b[38;5;241m*\u001b[39m\u001b[38;5;241m*\u001b[39mkwds)\n\u001b[0;32m    622\u001b[0m \u001b[38;5;28;01mif\u001b[39;00m chunksize \u001b[38;5;129;01mor\u001b[39;00m iterator:\n\u001b[0;32m    623\u001b[0m     \u001b[38;5;28;01mreturn\u001b[39;00m parser\n",
      "File \u001b[1;32md:\\Programming\\Yandex Cup\\2024\\YaCup-ML-Self-Driving-Cars\\venv\\lib\\site-packages\\pandas\\io\\parsers\\readers.py:1620\u001b[0m, in \u001b[0;36mTextFileReader.__init__\u001b[1;34m(self, f, engine, **kwds)\u001b[0m\n\u001b[0;32m   1617\u001b[0m     \u001b[38;5;28mself\u001b[39m\u001b[38;5;241m.\u001b[39moptions[\u001b[38;5;124m\"\u001b[39m\u001b[38;5;124mhas_index_names\u001b[39m\u001b[38;5;124m\"\u001b[39m] \u001b[38;5;241m=\u001b[39m kwds[\u001b[38;5;124m\"\u001b[39m\u001b[38;5;124mhas_index_names\u001b[39m\u001b[38;5;124m\"\u001b[39m]\n\u001b[0;32m   1619\u001b[0m \u001b[38;5;28mself\u001b[39m\u001b[38;5;241m.\u001b[39mhandles: IOHandles \u001b[38;5;241m|\u001b[39m \u001b[38;5;28;01mNone\u001b[39;00m \u001b[38;5;241m=\u001b[39m \u001b[38;5;28;01mNone\u001b[39;00m\n\u001b[1;32m-> 1620\u001b[0m \u001b[38;5;28mself\u001b[39m\u001b[38;5;241m.\u001b[39m_engine \u001b[38;5;241m=\u001b[39m \u001b[38;5;28;43mself\u001b[39;49m\u001b[38;5;241;43m.\u001b[39;49m\u001b[43m_make_engine\u001b[49m\u001b[43m(\u001b[49m\u001b[43mf\u001b[49m\u001b[43m,\u001b[49m\u001b[43m \u001b[49m\u001b[38;5;28;43mself\u001b[39;49m\u001b[38;5;241;43m.\u001b[39;49m\u001b[43mengine\u001b[49m\u001b[43m)\u001b[49m\n",
      "File \u001b[1;32md:\\Programming\\Yandex Cup\\2024\\YaCup-ML-Self-Driving-Cars\\venv\\lib\\site-packages\\pandas\\io\\parsers\\readers.py:1898\u001b[0m, in \u001b[0;36mTextFileReader._make_engine\u001b[1;34m(self, f, engine)\u001b[0m\n\u001b[0;32m   1895\u001b[0m     \u001b[38;5;28;01mraise\u001b[39;00m \u001b[38;5;167;01mValueError\u001b[39;00m(msg)\n\u001b[0;32m   1897\u001b[0m \u001b[38;5;28;01mtry\u001b[39;00m:\n\u001b[1;32m-> 1898\u001b[0m     \u001b[38;5;28;01mreturn\u001b[39;00m mapping[engine](f, \u001b[38;5;241m*\u001b[39m\u001b[38;5;241m*\u001b[39m\u001b[38;5;28mself\u001b[39m\u001b[38;5;241m.\u001b[39moptions)\n\u001b[0;32m   1899\u001b[0m \u001b[38;5;28;01mexcept\u001b[39;00m \u001b[38;5;167;01mException\u001b[39;00m:\n\u001b[0;32m   1900\u001b[0m     \u001b[38;5;28;01mif\u001b[39;00m \u001b[38;5;28mself\u001b[39m\u001b[38;5;241m.\u001b[39mhandles \u001b[38;5;129;01mis\u001b[39;00m \u001b[38;5;129;01mnot\u001b[39;00m \u001b[38;5;28;01mNone\u001b[39;00m:\n",
      "File \u001b[1;32md:\\Programming\\Yandex Cup\\2024\\YaCup-ML-Self-Driving-Cars\\venv\\lib\\site-packages\\pandas\\io\\parsers\\c_parser_wrapper.py:93\u001b[0m, in \u001b[0;36mCParserWrapper.__init__\u001b[1;34m(self, src, **kwds)\u001b[0m\n\u001b[0;32m     90\u001b[0m \u001b[38;5;28;01mif\u001b[39;00m kwds[\u001b[38;5;124m\"\u001b[39m\u001b[38;5;124mdtype_backend\u001b[39m\u001b[38;5;124m\"\u001b[39m] \u001b[38;5;241m==\u001b[39m \u001b[38;5;124m\"\u001b[39m\u001b[38;5;124mpyarrow\u001b[39m\u001b[38;5;124m\"\u001b[39m:\n\u001b[0;32m     91\u001b[0m     \u001b[38;5;66;03m# Fail here loudly instead of in cython after reading\u001b[39;00m\n\u001b[0;32m     92\u001b[0m     import_optional_dependency(\u001b[38;5;124m\"\u001b[39m\u001b[38;5;124mpyarrow\u001b[39m\u001b[38;5;124m\"\u001b[39m)\n\u001b[1;32m---> 93\u001b[0m \u001b[38;5;28mself\u001b[39m\u001b[38;5;241m.\u001b[39m_reader \u001b[38;5;241m=\u001b[39m parsers\u001b[38;5;241m.\u001b[39mTextReader(src, \u001b[38;5;241m*\u001b[39m\u001b[38;5;241m*\u001b[39mkwds)\n\u001b[0;32m     95\u001b[0m \u001b[38;5;28mself\u001b[39m\u001b[38;5;241m.\u001b[39munnamed_cols \u001b[38;5;241m=\u001b[39m \u001b[38;5;28mself\u001b[39m\u001b[38;5;241m.\u001b[39m_reader\u001b[38;5;241m.\u001b[39munnamed_cols\n\u001b[0;32m     97\u001b[0m \u001b[38;5;66;03m# error: Cannot determine type of 'names'\u001b[39;00m\n",
      "File \u001b[1;32mparsers.pyx:574\u001b[0m, in \u001b[0;36mpandas._libs.parsers.TextReader.__cinit__\u001b[1;34m()\u001b[0m\n",
      "File \u001b[1;32mparsers.pyx:663\u001b[0m, in \u001b[0;36mpandas._libs.parsers.TextReader._get_header\u001b[1;34m()\u001b[0m\n",
      "File \u001b[1;32mparsers.pyx:874\u001b[0m, in \u001b[0;36mpandas._libs.parsers.TextReader._tokenize_rows\u001b[1;34m()\u001b[0m\n",
      "File \u001b[1;32mparsers.pyx:891\u001b[0m, in \u001b[0;36mpandas._libs.parsers.TextReader._check_tokenize_status\u001b[1;34m()\u001b[0m\n",
      "File \u001b[1;32mparsers.pyx:2061\u001b[0m, in \u001b[0;36mpandas._libs.parsers.raise_parser_error\u001b[1;34m()\u001b[0m\n",
      "\u001b[1;31mParserError\u001b[0m: Error tokenizing data. C error: Calling read(nbytes) on source failed. Try engine='python'."
     ]
    }
   ],
   "source": [
    "# Чтение train dataset\n",
    "\n",
    "train_dataset = read_testcases(TRAIN_DATASET_PATH, amount=5000)\n",
    "len(train_dataset)"
   ]
  },
  {
   "cell_type": "code",
   "execution_count": 63,
   "metadata": {},
   "outputs": [
    {
     "name": "stderr",
     "output_type": "stream",
     "text": [
      "100%|██████████| 8000/8000 [01:19<00:00, 100.15it/s]\n"
     ]
    },
    {
     "data": {
      "text/plain": [
       "8000"
      ]
     },
     "execution_count": 63,
     "metadata": {},
     "output_type": "execute_result"
    }
   ],
   "source": [
    "# Чтение test dataset\n",
    "\n",
    "test_dataset = read_testcases(TEST_DATASET_PATH, is_test=True, amount=None)\n",
    "len(test_dataset)"
   ]
  },
  {
   "cell_type": "markdown",
   "metadata": {},
   "source": [
    "## Сборка всех фич в один датасет"
   ]
  },
  {
   "cell_type": "code",
   "execution_count": 9,
   "metadata": {},
   "outputs": [],
   "source": [
    "# Функция для конвертации даты в время года (зима, весна, лето, осень)\n",
    "def get_season(date):\n",
    "    month = date.month\n",
    "    if month in (12, 1, 2):\n",
    "        return 'зима'\n",
    "    elif month in (3, 4, 5):\n",
    "        return 'весна'\n",
    "    elif month in (6, 7, 8):\n",
    "        return 'лето'\n",
    "    else:\n",
    "        return 'осень'"
   ]
  },
  {
   "cell_type": "code",
   "execution_count": 68,
   "metadata": {},
   "outputs": [],
   "source": [
    "# Функция для записи создания датасета с указанием дополнительных фич + все id сцен собираются в один датасет\n",
    "def prepare_train_dataset(dataset):\n",
    "    # Создание общего датасета\n",
    "    all_data = {\"case_id\": [], \"season\": [], \"vehicle_model\": [], \"vehicle_model_modification\": [],\n",
    "                \"stamp_ns\": [], \"x\": [], \"y\": [], \"z\": [],\n",
    "                \"roll\": [], \"pitch\": [], \"yaw\": [], \"x_shift\": [], \"y_shift\": [],\n",
    "                \"z_shift\": [], \"roll_shift\": [], \"pitch_shift\": [], \"yaw_shift\": [],\n",
    "                }\n",
    "\n",
    "    for key in tqdm(dataset.keys()):\n",
    "        # Данные для case_id\n",
    "        key = int(key)\n",
    "        cur = dataset[key]['localization']\n",
    "        key_vals = [key] * len(cur)\n",
    "        \n",
    "        # Сдвиг по осям X, Y, Z\n",
    "        x_shifts = np.ediff1d(cur['x'].values, to_begin=0)\n",
    "        y_shifts = np.ediff1d(cur['y'].values, to_begin=0)\n",
    "        z_shifts = np.ediff1d(cur['z'].values, to_begin=0)\n",
    "        # Изменение угла поворта по осям roll, pitch, yaw\n",
    "        roll_shifts = np.ediff1d(cur['roll'].values, to_begin=0)\n",
    "        pitch_shifts = np.ediff1d(cur['pitch'].values, to_begin=0)\n",
    "        yaw_shifts = np.ediff1d(cur['yaw'].values, to_begin=0)\n",
    "\n",
    "\n",
    "        # Получение метаданных сцены\n",
    "        meta = train_dataset[key]['metadata']\n",
    "        ride_date = datetime.strptime(meta['ride_date'], '%Y-%m-%d')\n",
    "        # Вычисление сезона года из даты\n",
    "        ride_date = get_season(ride_date)\n",
    "        ride_date_vals = [ride_date] * len(cur)\n",
    "        vehicle_model = int(meta['vehicle_model'])\n",
    "        vehicle_model_vals = [vehicle_model] * len(cur)\n",
    "        vehicle_model_modification = int(meta['vehicle_model_modification'])\n",
    "        vehicle_model_modification_vals = [vehicle_model_modification] * len(cur)\n",
    "        \n",
    "        all_data['case_id'].extend(key_vals)\n",
    "        all_data['x_shift'].extend(x_shifts)\n",
    "        all_data['y_shift'].extend(y_shifts)\n",
    "        all_data['z_shift'].extend(z_shifts)\n",
    "        all_data['roll_shift'].extend(roll_shifts)\n",
    "        all_data['pitch_shift'].extend(pitch_shifts)\n",
    "        all_data['yaw_shift'].extend(yaw_shifts)\n",
    "        all_data['season'].extend(ride_date_vals)\n",
    "        all_data['vehicle_model'].extend(vehicle_model_vals)\n",
    "        all_data['vehicle_model_modification'].extend(vehicle_model_modification_vals)\n",
    "        all_data['x'].extend(cur['x'])\n",
    "        all_data['y'].extend(cur['y'])\n",
    "        all_data['z'].extend(cur['z'])\n",
    "        all_data['stamp_ns'].extend(cur['stamp_ns'])\n",
    "        all_data['roll'].extend(cur['roll'])\n",
    "        all_data['pitch'].extend(cur['pitch'])\n",
    "        all_data['yaw'].extend(cur['yaw'])\n",
    "            \n",
    "    return all_data"
   ]
  },
  {
   "cell_type": "code",
   "execution_count": 65,
   "metadata": {},
   "outputs": [],
   "source": [
    "# Функция для записи создания датасета с указанием дополнительных фич + все id сцен собираются в один датасет\n",
    "def prepare_test_dataset(dataset):\n",
    "    # Создание общего датасета\n",
    "    all_data = {\"case_id\": [], \"stamp_ns\": [], \"season\": [],\n",
    "                \"vehicle_model\": [], \"vehicle_model_modification\": []}\n",
    "    for key in tqdm(dataset.keys()):\n",
    "        # Данные для case_id\n",
    "        cur = dataset[key]['requested_stamps']\n",
    "        key = int(key)\n",
    "        key_vals = [key] * len(cur)\n",
    "\n",
    "        # Получение метаданных сцены\n",
    "        meta = dataset[key]['metadata']\n",
    "        ride_date = datetime.strptime(meta['ride_date'], '%Y-%m-%d')\n",
    "        # Вычисление сезона года из даты\n",
    "        ride_date = get_season(ride_date)\n",
    "        ride_date_vals = [ride_date] * len(cur)\n",
    "        vehicle_model = int(meta['vehicle_model'])\n",
    "        vehicle_model_vals = [vehicle_model] * len(cur)\n",
    "        vehicle_model_modification = int(meta['vehicle_model_modification'])\n",
    "        vehicle_model_modification_vals = [vehicle_model_modification] * len(cur)\n",
    "    \n",
    "        all_data['case_id'].extend(key_vals)\n",
    "        all_data['stamp_ns'].extend(cur['stamp_ns'])\n",
    "        all_data['season'].extend(ride_date_vals)\n",
    "        all_data['vehicle_model'].extend(vehicle_model_vals)\n",
    "        all_data['vehicle_model_modification'].extend(vehicle_model_modification_vals)\n",
    "    \n",
    "    return all_data"
   ]
  },
  {
   "cell_type": "markdown",
   "metadata": {},
   "source": [
    "### Создание новых датасетов с вынесением всей интересной информации в одной таблице"
   ]
  },
  {
   "cell_type": "code",
   "execution_count": 72,
   "metadata": {},
   "outputs": [
    {
     "name": "stderr",
     "output_type": "stream",
     "text": [
      "100%|██████████| 5000/5000 [00:23<00:00, 213.18it/s]\n"
     ]
    }
   ],
   "source": [
    "# Получение общего train dataset\n",
    "train_dict = prepare_train_dataset(train_dataset)\n",
    "\n",
    "df_train = pd.DataFrame(columns=['case_id', 'season', 'vehicle_model', 'vehicle_model_modification',\n",
    "                                 'stamp_ns', 'x', 'y', 'z', 'roll', 'pitch', 'yaw', 'x_shift', 'y_shift',\n",
    "                                 'z_shift', 'roll_shift', 'pitch_shift', 'yaw_shift'],\n",
    "                        data=train_dict)"
   ]
  },
  {
   "cell_type": "code",
   "execution_count": 66,
   "metadata": {},
   "outputs": [
    {
     "name": "stderr",
     "output_type": "stream",
     "text": [
      "100%|██████████| 8000/8000 [00:01<00:00, 7639.86it/s]\n"
     ]
    }
   ],
   "source": [
    "# Получение общего test dataset\n",
    "test_dict = prepare_test_dataset(test_dataset)\n",
    "\n",
    "# Сохранение данных в DataFrame\n",
    "df_test = pd.DataFrame(columns=['case_id', 'season', 'vehicle_model', 'vehicle_model_modification',\n",
    "                                'stamp_ns', 'x', 'y', 'yaw'],\n",
    "                       data=test_dict)"
   ]
  },
  {
   "cell_type": "code",
   "execution_count": 80,
   "metadata": {},
   "outputs": [
    {
     "name": "stdout",
     "output_type": "stream",
     "text": [
      "Датасет для обучения:\n",
      "   case_id season  vehicle_model  vehicle_model_modification   stamp_ns  \\\n",
      "0        0  весна              0                           0          0   \n",
      "1        0  весна              0                           0   39989868   \n",
      "2        0  весна              0                           0   79819886   \n",
      "3        0  весна              0                           0  125154671   \n",
      "4        0  весна              0                           0  159636974   \n",
      "\n",
      "             x             y          z      roll     pitch       yaw  \\\n",
      "0 -4292.313705 -14527.266319  66.043314  0.003926 -0.054198 -1.936810   \n",
      "1 -4292.489928 -14527.726083  66.070022  0.003702 -0.054172 -1.936858   \n",
      "2 -4292.662729 -14528.183063  66.090338  0.002404 -0.054628 -1.936827   \n",
      "3 -4292.862032 -14528.702952  66.120814  0.002709 -0.054559 -1.936894   \n",
      "4 -4293.011898 -14529.097871  66.138226  0.003264 -0.053668 -1.936876   \n",
      "\n",
      "    x_shift   y_shift   z_shift  roll_shift  pitch_shift  yaw_shift  \n",
      "0  0.000000  0.000000  0.000000    0.000000     0.000000   0.000000  \n",
      "1 -0.176223 -0.459763  0.026708   -0.000224     0.000026  -0.000048  \n",
      "2 -0.172801 -0.456980  0.020316   -0.001298    -0.000456   0.000031  \n",
      "3 -0.199303 -0.519889  0.030476    0.000305     0.000069  -0.000068  \n",
      "4 -0.149866 -0.394919  0.017411    0.000555     0.000891   0.000018  \n",
      "=============================================\n",
      "Датасет для предсказания:\n",
      "   case_id season  vehicle_model  vehicle_model_modification    stamp_ns    x  \\\n",
      "0        0  осень              1                           1  5000888836  NaN   \n",
      "1        0  осень              1                           1  5040043013  NaN   \n",
      "2        0  осень              1                           1  5079989560  NaN   \n",
      "3        0  осень              1                           1  5120797471  NaN   \n",
      "4        0  осень              1                           1  5165218288  NaN   \n",
      "\n",
      "     y  yaw  \n",
      "0  NaN  NaN  \n",
      "1  NaN  NaN  \n",
      "2  NaN  NaN  \n",
      "3  NaN  NaN  \n",
      "4  NaN  NaN  \n"
     ]
    }
   ],
   "source": [
    "# Итоговые датасеты для обучения и предсказания\n",
    "print(\"Датасет для обучения:\")\n",
    "print(df_train.head())\n",
    "print(\"=============================================\")\n",
    "print(\"Датасет для предсказания:\")\n",
    "print(df_test.head())"
   ]
  },
  {
   "cell_type": "code",
   "execution_count": 81,
   "metadata": {},
   "outputs": [],
   "source": [
    "# Запись полученного df_train в csv файл\n",
    "df_train.to_csv(\"df_train.csv\", header=True, index=False)"
   ]
  },
  {
   "cell_type": "code",
   "execution_count": 82,
   "metadata": {},
   "outputs": [],
   "source": [
    "# Запись полученного df_test в csv файл\n",
    "df_test.to_csv(\"df_test.csv\", header=True, index=False)"
   ]
  },
  {
   "cell_type": "markdown",
   "metadata": {},
   "source": [
    "## Обучение моделей"
   ]
  },
  {
   "cell_type": "code",
   "execution_count": 41,
   "metadata": {},
   "outputs": [],
   "source": [
    "from sklearn.model_selection import train_test_split\n",
    "from sklearn.metrics import r2_score, mean_absolute_error\n",
    "from catboost import CatBoostRegressor\n",
    "import matplotlib.pyplot as plt"
   ]
  },
  {
   "cell_type": "code",
   "execution_count": 21,
   "metadata": {},
   "outputs": [],
   "source": [
    "# Чтение датасетов\n",
    "df_train = pd.read_csv(\"df_train.csv\")\n",
    "df_test = pd.read_csv(\"df_test.csv\")\n",
    "\n",
    "# Удаление лишних столбцов\n",
    "df_train = df_train[['case_id', 'season', 'vehicle_model',\n",
    "                     'vehicle_model_modification', 'stamp_ns',\n",
    "                     'x', 'y', 'yaw']]"
   ]
  },
  {
   "cell_type": "code",
   "execution_count": 25,
   "metadata": {},
   "outputs": [],
   "source": [
    "# Данные для обучения\n",
    "X = df_train.drop(['x', 'y', 'yaw'], axis=1)\n",
    "y_1 = df_train[['x']]\n",
    "y_2 = df_train[['y']]\n",
    "y_3 = df_train[['yaw']]"
   ]
  },
  {
   "cell_type": "markdown",
   "metadata": {},
   "source": [
    "### Предсказание 'X'"
   ]
  },
  {
   "cell_type": "code",
   "execution_count": 43,
   "metadata": {},
   "outputs": [],
   "source": [
    "# Разделение данных на обучающие и тестовые\n",
    "# 1-ая модель\n",
    "X_train, X_valid, y_train, y_valid = train_test_split(X, y_1, test_size=0.25, random_state=2024)"
   ]
  },
  {
   "cell_type": "code",
   "execution_count": 44,
   "metadata": {},
   "outputs": [],
   "source": [
    "# Числовые переменные\n",
    "X_nums = ['stamp_ns']\n",
    "# Категориальные переменные\n",
    "cat_features = ['case_id', 'season', 'vehicle_model', 'vehicle_model_modification']\n",
    "# Зависимая переменная\n",
    "y_col = ['x']"
   ]
  },
  {
   "cell_type": "code",
   "execution_count": 45,
   "metadata": {},
   "outputs": [],
   "source": [
    "# Создание модели №1 для предсказания 'X'\n",
    "model_1 = CatBoostRegressor(random_seed=2024, verbose=1, task_type=\"GPU\",\n",
    "                            cat_features=cat_features, loss_function=\"RMSE\",\n",
    "                            early_stopping_rounds=100, iterations=6000,\n",
    "                            learning_rate=0.1)"
   ]
  },
  {
   "cell_type": "code",
   "execution_count": 46,
   "metadata": {},
   "outputs": [
    {
     "name": "stdout",
     "output_type": "stream",
     "text": [
      "0:\tlearn: 7105.4614597\ttest: 7100.8326443\tbest: 7100.8326443 (0)\ttotal: 672ms\tremaining: 44m 47s\n",
      "100:\tlearn: 5668.8862233\ttest: 5665.2636596\tbest: 5665.2636596 (100)\ttotal: 43.4s\tremaining: 27m 56s\n",
      "200:\tlearn: 5603.9768263\ttest: 5600.6395560\tbest: 5600.6395560 (200)\ttotal: 1m 19s\tremaining: 25m 7s\n",
      "300:\tlearn: 5557.4240306\ttest: 5554.8569878\tbest: 5554.8569878 (300)\ttotal: 1m 55s\tremaining: 23m 37s\n",
      "400:\tlearn: 5513.6322327\ttest: 5510.8595067\tbest: 5510.8595067 (400)\ttotal: 2m 31s\tremaining: 22m 40s\n",
      "500:\tlearn: 5478.3525222\ttest: 5475.0726699\tbest: 5475.0726699 (500)\ttotal: 3m 7s\tremaining: 21m 51s\n",
      "600:\tlearn: 5449.1215683\ttest: 5445.7030867\tbest: 5445.7030867 (600)\ttotal: 3m 43s\tremaining: 21m 5s\n",
      "700:\tlearn: 5419.4087267\ttest: 5416.5322193\tbest: 5416.5322193 (700)\ttotal: 4m 22s\tremaining: 20m 34s\n",
      "800:\tlearn: 5388.3330945\ttest: 5385.3621812\tbest: 5385.3621812 (800)\ttotal: 4m 59s\tremaining: 19m 55s\n",
      "900:\tlearn: 5351.4863516\ttest: 5348.3957989\tbest: 5348.3957989 (900)\ttotal: 5m 37s\tremaining: 19m 21s\n",
      "1000:\tlearn: 5321.7419936\ttest: 5318.4753285\tbest: 5318.4753285 (1000)\ttotal: 6m 14s\tremaining: 18m 41s\n",
      "1100:\tlearn: 5286.7375561\ttest: 5282.9185974\tbest: 5282.9185974 (1100)\ttotal: 6m 52s\tremaining: 18m 5s\n",
      "1200:\tlearn: 5254.4551681\ttest: 5250.2629048\tbest: 5250.2629048 (1200)\ttotal: 7m 31s\tremaining: 17m 32s\n",
      "1300:\tlearn: 5226.8973093\ttest: 5222.6702375\tbest: 5222.6702375 (1300)\ttotal: 8m 9s\tremaining: 16m 56s\n",
      "1400:\tlearn: 5193.4770059\ttest: 5189.0542990\tbest: 5189.0542990 (1400)\ttotal: 8m 48s\tremaining: 16m 20s\n",
      "1500:\tlearn: 5154.1918903\ttest: 5149.5428227\tbest: 5149.5428227 (1500)\ttotal: 9m 31s\tremaining: 15m 50s\n",
      "1600:\tlearn: 5123.9933278\ttest: 5119.5145026\tbest: 5119.5145026 (1600)\ttotal: 10m 10s\tremaining: 15m 14s\n",
      "1700:\tlearn: 5089.9026120\ttest: 5085.5956176\tbest: 5085.5956176 (1700)\ttotal: 10m 49s\tremaining: 14m 38s\n",
      "1800:\tlearn: 5052.8460306\ttest: 5048.4824785\tbest: 5048.4824785 (1800)\ttotal: 11m 29s\tremaining: 14m 2s\n",
      "1900:\tlearn: 5020.1638584\ttest: 5015.8710355\tbest: 5015.8710355 (1900)\ttotal: 12m 10s\tremaining: 13m 26s\n",
      "2000:\tlearn: 4986.4500243\ttest: 4981.8388046\tbest: 4981.8388046 (2000)\ttotal: 12m 51s\tremaining: 12m 50s\n",
      "2100:\tlearn: 4949.5548371\ttest: 4944.1466870\tbest: 4944.1466870 (2100)\ttotal: 13m 33s\tremaining: 12m 15s\n",
      "2200:\tlearn: 4917.2080678\ttest: 4911.3657693\tbest: 4911.3657693 (2200)\ttotal: 14m 15s\tremaining: 11m 39s\n",
      "2300:\tlearn: 4878.4248870\ttest: 4872.0407090\tbest: 4872.0407090 (2300)\ttotal: 15m\tremaining: 11m 4s\n",
      "2400:\tlearn: 4846.4440206\ttest: 4839.9823219\tbest: 4839.9823219 (2400)\ttotal: 15m 39s\tremaining: 10m 25s\n",
      "2500:\tlearn: 4808.4178782\ttest: 4802.0900601\tbest: 4802.0900601 (2500)\ttotal: 16m 23s\tremaining: 9m 49s\n",
      "2600:\tlearn: 4769.2291589\ttest: 4763.5776490\tbest: 4763.5776490 (2600)\ttotal: 17m 10s\tremaining: 9m 14s\n",
      "2700:\tlearn: 4737.1863617\ttest: 4732.4777882\tbest: 4732.4777882 (2700)\ttotal: 17m 57s\tremaining: 8m 38s\n",
      "2800:\tlearn: 4700.8904076\ttest: 4696.2383631\tbest: 4696.2383631 (2800)\ttotal: 18m 46s\tremaining: 8m 2s\n",
      "2900:\tlearn: 4666.1862256\ttest: 4662.4596489\tbest: 4662.4596489 (2900)\ttotal: 19m 34s\tremaining: 7m 25s\n",
      "3000:\tlearn: 4635.0722306\ttest: 4631.6065442\tbest: 4631.6065442 (3000)\ttotal: 20m 22s\tremaining: 6m 46s\n",
      "3100:\tlearn: 4602.9927231\ttest: 4598.9379917\tbest: 4598.9379917 (3100)\ttotal: 21m 9s\tremaining: 6m 8s\n",
      "3200:\tlearn: 4574.1407495\ttest: 4570.4370836\tbest: 4570.4370836 (3200)\ttotal: 21m 54s\tremaining: 5m 28s\n",
      "3300:\tlearn: 4540.5966073\ttest: 4536.9349930\tbest: 4536.9349930 (3300)\ttotal: 22m 43s\tremaining: 4m 48s\n",
      "3400:\tlearn: 4508.3334627\ttest: 4505.2238118\tbest: 4505.2238118 (3400)\ttotal: 23m 32s\tremaining: 4m 8s\n",
      "3500:\tlearn: 4473.4117246\ttest: 4470.0959297\tbest: 4470.0959297 (3500)\ttotal: 24m 20s\tremaining: 3m 28s\n",
      "3600:\tlearn: 4437.1707392\ttest: 4432.9787503\tbest: 4432.9787503 (3600)\ttotal: 25m 7s\tremaining: 2m 47s\n",
      "3700:\tlearn: 4406.7342502\ttest: 4402.2423191\tbest: 4402.2423191 (3700)\ttotal: 25m 56s\tremaining: 2m 5s\n",
      "3800:\tlearn: 4377.8326933\ttest: 4373.6161432\tbest: 4373.6161432 (3800)\ttotal: 26m 44s\tremaining: 1m 24s\n",
      "3900:\tlearn: 4346.6346208\ttest: 4342.3502214\tbest: 4342.3502214 (3900)\ttotal: 27m 31s\tremaining: 41.9s\n",
      "3999:\tlearn: 4311.7026143\ttest: 4307.6761198\tbest: 4307.6761198 (3999)\ttotal: 28m 16s\tremaining: 0us\n",
      "bestTest = 4307.67612\n",
      "bestIteration = 3999\n"
     ]
    },
    {
     "data": {
      "text/plain": [
       "<catboost.core.CatBoostRegressor at 0x1481bda2a10>"
      ]
     },
     "execution_count": 46,
     "metadata": {},
     "output_type": "execute_result"
    }
   ],
   "source": [
    "# Обучение модели №1\n",
    "model_1.fit(X_train, y_train, eval_set=(X_valid, y_valid))"
   ]
  },
  {
   "cell_type": "code",
   "execution_count": 48,
   "metadata": {},
   "outputs": [
    {
     "name": "stdout",
     "output_type": "stream",
     "text": [
      "Лучшее качество модели получено на 3999 итерации\n",
      "RMSE на обучающих данных = 4311.70\n",
      "RMSE на валидационных данных = 4307.68\n"
     ]
    }
   ],
   "source": [
    "print(f\"Лучшее качество модели получено на {model_1.best_iteration_} итерации\")\n",
    "print(f\"RMSE на обучающих данных = {model_1.best_score_['learn']['RMSE']:.2f}\")\n",
    "print(f\"RMSE на валидационных данных = {model_1.best_score_['validation']['RMSE']:.2f}\")"
   ]
  },
  {
   "cell_type": "code",
   "execution_count": 53,
   "metadata": {},
   "outputs": [
    {
     "name": "stdout",
     "output_type": "stream",
     "text": [
      "R2 CatBoost модели = 0.64\n",
      "MAE модели = 2575.20\n"
     ]
    }
   ],
   "source": [
    "# Метрики качества модели\n",
    "preds = model_1.predict(X_valid)\n",
    "result = r2_score(y_valid, preds)\n",
    "\n",
    "print(f\"R2 CatBoost модели = {result:.2f}\")\n",
    "\n",
    "# Точность модели с помощью расчета R2 метрики\n",
    "preds = model_1.predict(X_valid)\n",
    "result = mean_absolute_error(y_valid, preds)\n",
    "\n",
    "print(f\"MAE модели = {result:.2f}\")"
   ]
  },
  {
   "cell_type": "markdown",
   "metadata": {},
   "source": [
    "#### Сохранение и загрузка модели"
   ]
  },
  {
   "cell_type": "code",
   "execution_count": 51,
   "metadata": {},
   "outputs": [],
   "source": [
    "model_1.save_model(\"../models/model_1.cbm\")"
   ]
  },
  {
   "cell_type": "code",
   "execution_count": 52,
   "metadata": {},
   "outputs": [],
   "source": [
    "model_1 = CatBoostRegressor().load_model(\"../models/model_1.cbm\")"
   ]
  },
  {
   "cell_type": "markdown",
   "metadata": {},
   "source": [
    "#### График обучения модели"
   ]
  },
  {
   "cell_type": "code",
   "execution_count": 47,
   "metadata": {},
   "outputs": [
    {
     "data": {
      "image/png": "[encoded data removed]",
      "text/plain": [
       "<Figure size 700x400 with 1 Axes>"
      ]
     },
     "metadata": {},
     "output_type": "display_data"
    }
   ],
   "source": [
    "# Информация о значениях RMSE на обучающих данных и валидационных\n",
    "evals_result = model.get_evals_result()\n",
    "train_loss = evals_result['learn'][\"RMSE\"]\n",
    "test_loss = evals_result['validation'][\"RMSE\"]\n",
    "\n",
    "\n",
    "# Построение графика обучения модели CatBoost\n",
    "iterations = np.arange(1, len(train_loss) + 1)\n",
    " \n",
    "plt.figure(figsize=(7, 4))\n",
    "plt.plot(iterations, train_loss, label='Значение функции потерь на обучающих данных', color='blue')\n",
    "plt.plot(iterations, test_loss, label='Значение функции потерь на валидационных данных', color='green')\n",
    "plt.xlabel('Итерация')\n",
    "plt.ylabel('Значение функции потерь')\n",
    "plt.title('Процесс обучения модели CatBoost', fontweight=\"bold\")\n",
    "plt.legend()\n",
    "plt.grid()\n",
    "# plt.savefig(\"../Images/Graphs/Training_Progress_CatBoost_Model_v2.png\", dpi=199)\n",
    "plt.show()"
   ]
  },
  {
   "cell_type": "markdown",
   "metadata": {},
   "source": [
    "### Предсказание 'Y'"
   ]
  },
  {
   "cell_type": "code",
   "execution_count": null,
   "metadata": {},
   "outputs": [],
   "source": [
    "# Разделение данных на обучающие и тестовые\n",
    "# 2-ая модель\n",
    "X_train, X_valid, y_train, y_valid = train_test_split(X, y_2, test_size=0.25, random_state=2024)"
   ]
  },
  {
   "cell_type": "code",
   "execution_count": null,
   "metadata": {},
   "outputs": [],
   "source": [
    "# Числовые переменные\n",
    "X_nums = ['stamp_ns']\n",
    "# Категориальные переменные\n",
    "cat_features = ['case_id', 'season', 'vehicle_model', 'vehicle_model_modification']\n",
    "# Зависимая переменная\n",
    "y_col = ['y']"
   ]
  },
  {
   "cell_type": "code",
   "execution_count": null,
   "metadata": {},
   "outputs": [],
   "source": [
    "# Создание модели №1 для предсказания 'X'\n",
    "model_2 = CatBoostRegressor(random_seed=2024, verbose=1, task_type=\"GPU\",\n",
    "                            cat_features=cat_features, loss_function=\"RMSE\",\n",
    "                            early_stopping_rounds=100, iterations=6000,\n",
    "                            learning_rate=0.1)"
   ]
  },
  {
   "cell_type": "code",
   "execution_count": null,
   "metadata": {},
   "outputs": [
    {
     "name": "stdout",
     "output_type": "stream",
     "text": [
      "0:\tlearn: 7105.4614597\ttest: 7100.8326443\tbest: 7100.8326443 (0)\ttotal: 672ms\tremaining: 44m 47s\n",
      "100:\tlearn: 5668.8862233\ttest: 5665.2636596\tbest: 5665.2636596 (100)\ttotal: 43.4s\tremaining: 27m 56s\n",
      "200:\tlearn: 5603.9768263\ttest: 5600.6395560\tbest: 5600.6395560 (200)\ttotal: 1m 19s\tremaining: 25m 7s\n",
      "300:\tlearn: 5557.4240306\ttest: 5554.8569878\tbest: 5554.8569878 (300)\ttotal: 1m 55s\tremaining: 23m 37s\n",
      "400:\tlearn: 5513.6322327\ttest: 5510.8595067\tbest: 5510.8595067 (400)\ttotal: 2m 31s\tremaining: 22m 40s\n",
      "500:\tlearn: 5478.3525222\ttest: 5475.0726699\tbest: 5475.0726699 (500)\ttotal: 3m 7s\tremaining: 21m 51s\n",
      "600:\tlearn: 5449.1215683\ttest: 5445.7030867\tbest: 5445.7030867 (600)\ttotal: 3m 43s\tremaining: 21m 5s\n",
      "700:\tlearn: 5419.4087267\ttest: 5416.5322193\tbest: 5416.5322193 (700)\ttotal: 4m 22s\tremaining: 20m 34s\n",
      "800:\tlearn: 5388.3330945\ttest: 5385.3621812\tbest: 5385.3621812 (800)\ttotal: 4m 59s\tremaining: 19m 55s\n",
      "900:\tlearn: 5351.4863516\ttest: 5348.3957989\tbest: 5348.3957989 (900)\ttotal: 5m 37s\tremaining: 19m 21s\n",
      "1000:\tlearn: 5321.7419936\ttest: 5318.4753285\tbest: 5318.4753285 (1000)\ttotal: 6m 14s\tremaining: 18m 41s\n",
      "1100:\tlearn: 5286.7375561\ttest: 5282.9185974\tbest: 5282.9185974 (1100)\ttotal: 6m 52s\tremaining: 18m 5s\n",
      "1200:\tlearn: 5254.4551681\ttest: 5250.2629048\tbest: 5250.2629048 (1200)\ttotal: 7m 31s\tremaining: 17m 32s\n",
      "1300:\tlearn: 5226.8973093\ttest: 5222.6702375\tbest: 5222.6702375 (1300)\ttotal: 8m 9s\tremaining: 16m 56s\n",
      "1400:\tlearn: 5193.4770059\ttest: 5189.0542990\tbest: 5189.0542990 (1400)\ttotal: 8m 48s\tremaining: 16m 20s\n",
      "1500:\tlearn: 5154.1918903\ttest: 5149.5428227\tbest: 5149.5428227 (1500)\ttotal: 9m 31s\tremaining: 15m 50s\n",
      "1600:\tlearn: 5123.9933278\ttest: 5119.5145026\tbest: 5119.5145026 (1600)\ttotal: 10m 10s\tremaining: 15m 14s\n",
      "1700:\tlearn: 5089.9026120\ttest: 5085.5956176\tbest: 5085.5956176 (1700)\ttotal: 10m 49s\tremaining: 14m 38s\n",
      "1800:\tlearn: 5052.8460306\ttest: 5048.4824785\tbest: 5048.4824785 (1800)\ttotal: 11m 29s\tremaining: 14m 2s\n",
      "1900:\tlearn: 5020.1638584\ttest: 5015.8710355\tbest: 5015.8710355 (1900)\ttotal: 12m 10s\tremaining: 13m 26s\n",
      "2000:\tlearn: 4986.4500243\ttest: 4981.8388046\tbest: 4981.8388046 (2000)\ttotal: 12m 51s\tremaining: 12m 50s\n",
      "2100:\tlearn: 4949.5548371\ttest: 4944.1466870\tbest: 4944.1466870 (2100)\ttotal: 13m 33s\tremaining: 12m 15s\n",
      "2200:\tlearn: 4917.2080678\ttest: 4911.3657693\tbest: 4911.3657693 (2200)\ttotal: 14m 15s\tremaining: 11m 39s\n",
      "2300:\tlearn: 4878.4248870\ttest: 4872.0407090\tbest: 4872.0407090 (2300)\ttotal: 15m\tremaining: 11m 4s\n",
      "2400:\tlearn: 4846.4440206\ttest: 4839.9823219\tbest: 4839.9823219 (2400)\ttotal: 15m 39s\tremaining: 10m 25s\n",
      "2500:\tlearn: 4808.4178782\ttest: 4802.0900601\tbest: 4802.0900601 (2500)\ttotal: 16m 23s\tremaining: 9m 49s\n",
      "2600:\tlearn: 4769.2291589\ttest: 4763.5776490\tbest: 4763.5776490 (2600)\ttotal: 17m 10s\tremaining: 9m 14s\n",
      "2700:\tlearn: 4737.1863617\ttest: 4732.4777882\tbest: 4732.4777882 (2700)\ttotal: 17m 57s\tremaining: 8m 38s\n",
      "2800:\tlearn: 4700.8904076\ttest: 4696.2383631\tbest: 4696.2383631 (2800)\ttotal: 18m 46s\tremaining: 8m 2s\n",
      "2900:\tlearn: 4666.1862256\ttest: 4662.4596489\tbest: 4662.4596489 (2900)\ttotal: 19m 34s\tremaining: 7m 25s\n",
      "3000:\tlearn: 4635.0722306\ttest: 4631.6065442\tbest: 4631.6065442 (3000)\ttotal: 20m 22s\tremaining: 6m 46s\n",
      "3100:\tlearn: 4602.9927231\ttest: 4598.9379917\tbest: 4598.9379917 (3100)\ttotal: 21m 9s\tremaining: 6m 8s\n",
      "3200:\tlearn: 4574.1407495\ttest: 4570.4370836\tbest: 4570.4370836 (3200)\ttotal: 21m 54s\tremaining: 5m 28s\n",
      "3300:\tlearn: 4540.5966073\ttest: 4536.9349930\tbest: 4536.9349930 (3300)\ttotal: 22m 43s\tremaining: 4m 48s\n",
      "3400:\tlearn: 4508.3334627\ttest: 4505.2238118\tbest: 4505.2238118 (3400)\ttotal: 23m 32s\tremaining: 4m 8s\n",
      "3500:\tlearn: 4473.4117246\ttest: 4470.0959297\tbest: 4470.0959297 (3500)\ttotal: 24m 20s\tremaining: 3m 28s\n",
      "3600:\tlearn: 4437.1707392\ttest: 4432.9787503\tbest: 4432.9787503 (3600)\ttotal: 25m 7s\tremaining: 2m 47s\n",
      "3700:\tlearn: 4406.7342502\ttest: 4402.2423191\tbest: 4402.2423191 (3700)\ttotal: 25m 56s\tremaining: 2m 5s\n",
      "3800:\tlearn: 4377.8326933\ttest: 4373.6161432\tbest: 4373.6161432 (3800)\ttotal: 26m 44s\tremaining: 1m 24s\n",
      "3900:\tlearn: 4346.6346208\ttest: 4342.3502214\tbest: 4342.3502214 (3900)\ttotal: 27m 31s\tremaining: 41.9s\n",
      "3999:\tlearn: 4311.7026143\ttest: 4307.6761198\tbest: 4307.6761198 (3999)\ttotal: 28m 16s\tremaining: 0us\n",
      "bestTest = 4307.67612\n",
      "bestIteration = 3999\n"
     ]
    },
    {
     "data": {
      "text/plain": [
       "<catboost.core.CatBoostRegressor at 0x1481bda2a10>"
      ]
     },
     "metadata": {},
     "output_type": "display_data"
    }
   ],
   "source": [
    "# Обучение модели №1\n",
    "model_2.fit(X_train, y_train, eval_set=(X_valid, y_valid))"
   ]
  },
  {
   "cell_type": "code",
   "execution_count": null,
   "metadata": {},
   "outputs": [
    {
     "name": "stdout",
     "output_type": "stream",
     "text": [
      "Лучшее качество модели получено на 3999 итерации\n",
      "RMSE на обучающих данных = 4311.70\n",
      "RMSE на валидационных данных = 4307.68\n"
     ]
    }
   ],
   "source": [
    "print(f\"Лучшее качество модели получено на {model_2.best_iteration_} итерации\")\n",
    "print(f\"RMSE на обучающих данных = {model_2.best_score_['learn']['RMSE']:.2f}\")\n",
    "print(f\"RMSE на валидационных данных = {model_2.best_score_['validation']['RMSE']:.2f}\")"
   ]
  },
  {
   "cell_type": "code",
   "execution_count": null,
   "metadata": {},
   "outputs": [
    {
     "name": "stdout",
     "output_type": "stream",
     "text": [
      "R2 CatBoost модели = 0.64\n",
      "MAE модели = 2575.20\n"
     ]
    }
   ],
   "source": [
    "# Метрики качества модели\n",
    "preds = model_2.predict(X_valid)\n",
    "result = r2_score(y_valid, preds)\n",
    "\n",
    "print(f\"R2 CatBoost модели = {result:.2f}\")\n",
    "\n",
    "# Точность модели с помощью расчета R2 метрики\n",
    "preds = model_2.predict(X_valid)\n",
    "result = mean_absolute_error(y_valid, preds)\n",
    "\n",
    "print(f\"MAE модели = {result:.2f}\")"
   ]
  },
  {
   "cell_type": "markdown",
   "metadata": {},
   "source": [
    "#### Сохранение и загрузка модели"
   ]
  },
  {
   "cell_type": "code",
   "execution_count": null,
   "metadata": {},
   "outputs": [],
   "source": [
    "model_2.save_model(\"../models/model_2.cbm\")"
   ]
  },
  {
   "cell_type": "code",
   "execution_count": null,
   "metadata": {},
   "outputs": [],
   "source": [
    "model_2 = CatBoostRegressor().load_model(\"../models/model_2.cbm\")"
   ]
  },
  {
   "cell_type": "markdown",
   "metadata": {},
   "source": [
    "#### График обучения модели"
   ]
  },
  {
   "cell_type": "code",
   "execution_count": null,
   "metadata": {},
   "outputs": [
    {
     "data": {
      "image/png": "[encoded data removed]",
      "text/plain": [
       "<Figure size 700x400 with 1 Axes>"
      ]
     },
     "metadata": {},
     "output_type": "display_data"
    }
   ],
   "source": [
    "# Информация о значениях RMSE на обучающих данных и валидационных\n",
    "evals_result = model_2.get_evals_result()\n",
    "train_loss = evals_result['learn'][\"RMSE\"]\n",
    "test_loss = evals_result['validation'][\"RMSE\"]\n",
    "\n",
    "\n",
    "# Построение графика обучения модели CatBoost\n",
    "iterations = np.arange(1, len(train_loss) + 1)\n",
    " \n",
    "plt.figure(figsize=(7, 4))\n",
    "plt.plot(iterations, train_loss, label='Значение функции потерь на обучающих данных', color='blue')\n",
    "plt.plot(iterations, test_loss, label='Значение функции потерь на валидационных данных', color='green')\n",
    "plt.xlabel('Итерация')\n",
    "plt.ylabel('Значение функции потерь')\n",
    "plt.title('Процесс обучения модели CatBoost', fontweight=\"bold\")\n",
    "plt.legend()\n",
    "plt.grid()\n",
    "# plt.savefig(\"../Images/Graphs/Training_Progress_CatBoost_Model_v2.png\", dpi=199)\n",
    "plt.show()"
   ]
  },
  {
   "cell_type": "code",
   "execution_count": null,
   "metadata": {},
   "outputs": [],
   "source": []
  }
 ],
 "metadata": {
  "kernelspec": {
   "display_name": "venv",
   "language": "python",
   "name": "python3"
  },
  "language_info": {
   "codemirror_mode": {
    "name": "ipython",
    "version": 3
   },
   "file_extension": ".py",
   "mimetype": "text/x-python",
   "name": "python",
   "nbconvert_exporter": "python",
   "pygments_lexer": "ipython3",
   "version": "3.10.5"
  }
 },
 "nbformat": 4,
 "nbformat_minor": 2
}
