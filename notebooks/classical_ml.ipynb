{
 "cells": [
  {
   "cell_type": "markdown",
   "metadata": {},
   "source": [
    "Решение задачи с помощью алгоритмов классического машинного обучения"
   ]
  },
  {
   "cell_type": "markdown",
   "metadata": {},
   "source": [
    "## Импорты"
   ]
  },
  {
   "cell_type": "code",
   "execution_count": 1,
   "metadata": {},
   "outputs": [],
   "source": [
    "import os\n",
    "import typing\n",
    "from tqdm import tqdm\n",
    "\n",
    "import pandas as pd\n",
    "import json\n",
    "\n",
    "import numpy as np"
   ]
  },
  {
   "cell_type": "code",
   "execution_count": 2,
   "metadata": {},
   "outputs": [],
   "source": [
    "from datetime import datetime"
   ]
  },
  {
   "cell_type": "markdown",
   "metadata": {},
   "source": [
    "## Классы"
   ]
  },
  {
   "cell_type": "code",
   "execution_count": 3,
   "metadata": {},
   "outputs": [],
   "source": [
    "class DataFilePaths:\n",
    "    def __init__(self, testcase_path: str):\n",
    "        self.testcase_path = testcase_path\n",
    "\n",
    "    def localization(self):\n",
    "        return os.path.join(self.testcase_path, 'localization.csv')\n",
    "\n",
    "    def control(self):\n",
    "        return os.path.join(self.testcase_path, 'control.csv')\n",
    "\n",
    "    def metadata(self):\n",
    "        return os.path.join(self.testcase_path, 'metadata.json')\n",
    "\n",
    "    # exists only for test_dataset\n",
    "    def requested_stamps(self):\n",
    "        return os.path.join(self.testcase_path, 'requested_stamps.csv')"
   ]
  },
  {
   "cell_type": "markdown",
   "metadata": {},
   "source": [
    "## Функции"
   ]
  },
  {
   "cell_type": "code",
   "execution_count": 4,
   "metadata": {},
   "outputs": [],
   "source": [
    "# Load all ids of a dataset\n",
    "\n",
    "def read_testcase_ids(dataset_path: str):\n",
    "    ids = [int(case_id) for case_id in os.listdir(dataset_path) if os.path.isdir(os.path.join(dataset_path, case_id))]\n",
    "    return ids"
   ]
  },
  {
   "cell_type": "code",
   "execution_count": 5,
   "metadata": {},
   "outputs": [],
   "source": [
    "def read_localization(localization_path: str):\n",
    "    return pd.read_csv(localization_path)\n",
    "\n",
    "def read_control(control_path):\n",
    "    return pd.read_csv(control_path)\n",
    "\n",
    "def read_metadata(metadata_path: str):\n",
    "    with open(metadata_path, 'r') as f:\n",
    "        data = json.load(f)\n",
    "    return data\n",
    "\n",
    "def read_requested_stamps(requested_stamps_path: str):\n",
    "    return pd.read_csv(requested_stamps_path)\n",
    "\n",
    "def read_testcase(dataset_path: str, testcase_id: str, is_test: bool = False):\n",
    "    testcase_path = os.path.join(dataset_path, str(testcase_id))\n",
    "    data_file_paths = DataFilePaths(testcase_path)\n",
    "\n",
    "    testcase_data = {}\n",
    "    testcase_data['localization'] = read_localization(data_file_paths.localization())\n",
    "    testcase_data['control'] = read_control(data_file_paths.control())\n",
    "    testcase_data['metadata'] = read_metadata(data_file_paths.metadata())\n",
    "    if is_test:\n",
    "        testcase_data['requested_stamps'] = read_requested_stamps(data_file_paths.requested_stamps())\n",
    "\n",
    "    return testcase_data"
   ]
  },
  {
   "cell_type": "code",
   "execution_count": 6,
   "metadata": {},
   "outputs": [],
   "source": [
    "def read_testcases(dataset_path: str, is_test: bool = False,\n",
    "                   testcase_ids: typing.Iterable[int] = None,\n",
    "                   amount: int | None = None):\n",
    "    result = {}\n",
    "    if testcase_ids is None:\n",
    "        if amount is None:\n",
    "            testcase_ids = read_testcase_ids(dataset_path)\n",
    "        else:\n",
    "            testcase_ids = read_testcase_ids(dataset_path)[:amount]\n",
    "\n",
    "    for testcase_id in tqdm(testcase_ids):\n",
    "        testcase = read_testcase(dataset_path, testcase_id, is_test=is_test)\n",
    "        result[testcase_id] = testcase\n",
    "    return result"
   ]
  },
  {
   "cell_type": "markdown",
   "metadata": {
    "vscode": {
     "languageId": "plaintext"
    }
   },
   "source": [
    "## Данные"
   ]
  },
  {
   "cell_type": "code",
   "execution_count": 9,
   "metadata": {},
   "outputs": [],
   "source": [
    "# Пути до датасетов\n",
    "\n",
    "ROOT_DATA_FOLDER = \"../\"\n",
    "\n",
    "TRAIN_DATASET_PATH = os.path.join(ROOT_DATA_FOLDER, \"YaCupTrain\")\n",
    "TEST_DATASET_PATH = os.path.join(ROOT_DATA_FOLDER, \"YaCupTest\")"
   ]
  },
  {
   "cell_type": "code",
   "execution_count": 10,
   "metadata": {},
   "outputs": [
    {
     "name": "stderr",
     "output_type": "stream",
     "text": [
      "100%|██████████| 10000/10000 [00:35<00:00, 283.33it/s]\n"
     ]
    },
    {
     "data": {
      "text/plain": [
       "10000"
      ]
     },
     "execution_count": 10,
     "metadata": {},
     "output_type": "execute_result"
    }
   ],
   "source": [
    "# Чтение train dataset\n",
    "\n",
    "train_dataset = read_testcases(TRAIN_DATASET_PATH, amount=10000)\n",
    "len(train_dataset)"
   ]
  },
  {
   "cell_type": "code",
   "execution_count": 49,
   "metadata": {},
   "outputs": [
    {
     "name": "stderr",
     "output_type": "stream",
     "text": [
      "100%|██████████| 8000/8000 [00:22<00:00, 360.46it/s]\n"
     ]
    },
    {
     "data": {
      "text/plain": [
       "8000"
      ]
     },
     "execution_count": 49,
     "metadata": {},
     "output_type": "execute_result"
    }
   ],
   "source": [
    "# Чтение test dataset\n",
    "\n",
    "test_dataset = read_testcases(TEST_DATASET_PATH, is_test=True, amount=None)\n",
    "len(test_dataset)"
   ]
  },
  {
   "cell_type": "markdown",
   "metadata": {},
   "source": [
    "## Сборка всех фич в один датасет"
   ]
  },
  {
   "cell_type": "code",
   "execution_count": 50,
   "metadata": {},
   "outputs": [],
   "source": [
    "# Функция для конвертации даты в время года (зима, весна, лето, осень)\n",
    "def get_season(date):\n",
    "    month = date.month\n",
    "    if month in (12, 1, 2):\n",
    "        return 'зима'\n",
    "    elif month in (3, 4, 5):\n",
    "        return 'весна'\n",
    "    elif month in (6, 7, 8):\n",
    "        return 'лето'\n",
    "    else:\n",
    "        return 'осень'"
   ]
  },
  {
   "cell_type": "code",
   "execution_count": 13,
   "metadata": {},
   "outputs": [],
   "source": [
    "# Функция для записи создания датасета с указанием дополнительных фич + все id сцен собираются в один датасет\n",
    "def prepare_train_dataset(dataset):\n",
    "    # Создание общего датасета\n",
    "    all_data = {\"case_id\": [], \"season\": [], \"vehicle_model\": [], \"vehicle_model_modification\": [],\n",
    "                \"stamp_ns\": [], \"x\": [], \"y\": [], \"z\": [],\n",
    "                \"roll\": [], \"pitch\": [], \"yaw\": [], \"x_shift\": [], \"y_shift\": [],\n",
    "                \"z_shift\": [], \"roll_shift\": [], \"pitch_shift\": [], \"yaw_shift\": [],\n",
    "                }\n",
    "\n",
    "    for key in tqdm(dataset.keys()):\n",
    "        # Данные для case_id\n",
    "        key = int(key)\n",
    "        cur = dataset[key]['localization']\n",
    "        key_vals = [key] * len(cur)\n",
    "\n",
    "        # Сдвиг по осям X, Y, Z\n",
    "        x_shifts = np.ediff1d(cur['x'].values, to_begin=0)\n",
    "        y_shifts = np.ediff1d(cur['y'].values, to_begin=0)\n",
    "        z_shifts = np.ediff1d(cur['z'].values, to_begin=0)\n",
    "        # Изменение угла поворта по осям roll, pitch, yaw\n",
    "        roll_shifts = np.ediff1d(cur['roll'].values, to_begin=0)\n",
    "        pitch_shifts = np.ediff1d(cur['pitch'].values, to_begin=0)\n",
    "        yaw_shifts = np.ediff1d(cur['yaw'].values, to_begin=0)\n",
    "\n",
    "\n",
    "        # Получение метаданных сцены\n",
    "        meta = train_dataset[key]['metadata']\n",
    "        ride_date = datetime.strptime(meta['ride_date'], '%Y-%m-%d')\n",
    "        # Вычисление сезона года из даты\n",
    "        ride_date = get_season(ride_date)\n",
    "        ride_date_vals = [ride_date] * len(cur)\n",
    "        vehicle_model = int(meta['vehicle_model'])\n",
    "        vehicle_model_vals = [vehicle_model] * len(cur)\n",
    "        vehicle_model_modification = int(meta['vehicle_model_modification'])\n",
    "        vehicle_model_modification_vals = [vehicle_model_modification] * len(cur)\n",
    "\n",
    "        all_data['case_id'].extend(key_vals)\n",
    "        all_data['x_shift'].extend(x_shifts)\n",
    "        all_data['y_shift'].extend(y_shifts)\n",
    "        all_data['z_shift'].extend(z_shifts)\n",
    "        all_data['roll_shift'].extend(roll_shifts)\n",
    "        all_data['pitch_shift'].extend(pitch_shifts)\n",
    "        all_data['yaw_shift'].extend(yaw_shifts)\n",
    "        all_data['season'].extend(ride_date_vals)\n",
    "        all_data['vehicle_model'].extend(vehicle_model_vals)\n",
    "        all_data['vehicle_model_modification'].extend(vehicle_model_modification_vals)\n",
    "        all_data['x'].extend(cur['x'])\n",
    "        all_data['y'].extend(cur['y'])\n",
    "        all_data['z'].extend(cur['z'])\n",
    "        all_data['stamp_ns'].extend(cur['stamp_ns'])\n",
    "        all_data['roll'].extend(cur['roll'])\n",
    "        all_data['pitch'].extend(cur['pitch'])\n",
    "        all_data['yaw'].extend(cur['yaw'])\n",
    "\n",
    "    return all_data"
   ]
  },
  {
   "cell_type": "code",
   "execution_count": 51,
   "metadata": {},
   "outputs": [],
   "source": [
    "# Функция для записи создания датасета с указанием дополнительных фич + все id сцен собираются в один датасет\n",
    "def prepare_test_dataset(dataset):\n",
    "    # Создание общего датасета\n",
    "    all_data = {\"case_id\": [], \"stamp_ns\": [], \"season\": [],\n",
    "                \"vehicle_model\": [], \"vehicle_model_modification\": []}\n",
    "    for key in tqdm(dataset.keys()):\n",
    "        # Данные для case_id\n",
    "        cur = dataset[key]['requested_stamps']\n",
    "        key = int(key)\n",
    "        key_vals = [key] * len(cur)\n",
    "\n",
    "        # Получение метаданных сцены\n",
    "        meta = dataset[key]['metadata']\n",
    "        ride_date = datetime.strptime(meta['ride_date'], '%Y-%m-%d')\n",
    "        # Вычисление сезона года из даты\n",
    "        ride_date = get_season(ride_date)\n",
    "        ride_date_vals = [ride_date] * len(cur)\n",
    "        vehicle_model = int(meta['vehicle_model'])\n",
    "        vehicle_model_vals = [vehicle_model] * len(cur)\n",
    "        vehicle_model_modification = int(meta['vehicle_model_modification'])\n",
    "        vehicle_model_modification_vals = [vehicle_model_modification] * len(cur)\n",
    "\n",
    "        all_data['case_id'].extend(key_vals)\n",
    "        all_data['stamp_ns'].extend(cur['stamp_ns'])\n",
    "        all_data['season'].extend(ride_date_vals)\n",
    "        all_data['vehicle_model'].extend(vehicle_model_vals)\n",
    "        all_data['vehicle_model_modification'].extend(vehicle_model_modification_vals)\n",
    "\n",
    "    return all_data"
   ]
  },
  {
   "cell_type": "markdown",
   "metadata": {},
   "source": [
    "### Создание новых датасетов с вынесением всей интересной информации в одной таблице"
   ]
  },
  {
   "cell_type": "code",
   "execution_count": 14,
   "metadata": {},
   "outputs": [
    {
     "name": "stderr",
     "output_type": "stream",
     "text": [
      "100%|██████████| 10000/10000 [00:11<00:00, 834.31it/s]\n"
     ]
    }
   ],
   "source": [
    "# Получение общего train dataset\n",
    "train_dict = prepare_train_dataset(train_dataset)\n",
    "\n",
    "df_train = pd.DataFrame(columns=['case_id', 'season', 'vehicle_model', 'vehicle_model_modification',\n",
    "                                 'stamp_ns', 'x', 'y', 'z', 'roll', 'pitch', 'yaw', 'x_shift', 'y_shift',\n",
    "                                 'z_shift', 'roll_shift', 'pitch_shift', 'yaw_shift'],\n",
    "                        data=train_dict)"
   ]
  },
  {
   "cell_type": "code",
   "execution_count": 52,
   "metadata": {},
   "outputs": [
    {
     "name": "stderr",
     "output_type": "stream",
     "text": [
      "100%|██████████| 8000/8000 [00:00<00:00, 15412.76it/s]\n"
     ]
    }
   ],
   "source": [
    "# Получение общего test dataset\n",
    "test_dict = prepare_test_dataset(test_dataset)\n",
    "\n",
    "# Сохранение данных в DataFrame\n",
    "df_test = pd.DataFrame(columns=['case_id', 'season', 'vehicle_model', 'vehicle_model_modification',\n",
    "                                'stamp_ns', 'x', 'y', 'yaw'],\n",
    "                       data=test_dict)"
   ]
  },
  {
   "cell_type": "code",
   "execution_count": 53,
   "metadata": {},
   "outputs": [
    {
     "name": "stdout",
     "output_type": "stream",
     "text": [
      "Датасет для обучения:\n",
      "   case_id season  vehicle_model  vehicle_model_modification   stamp_ns  \\\n",
      "0        0  весна              0                           0          0   \n",
      "1        0  весна              0                           0   39989868   \n",
      "2        0  весна              0                           0   79819886   \n",
      "3        0  весна              0                           0  125154671   \n",
      "4        0  весна              0                           0  159636974   \n",
      "\n",
      "             x             y       yaw  \n",
      "0 -4292.313705 -14527.266319 -1.936810  \n",
      "1 -4292.489928 -14527.726083 -1.936858  \n",
      "2 -4292.662729 -14528.183063 -1.936827  \n",
      "3 -4292.862032 -14528.702952 -1.936894  \n",
      "4 -4293.011898 -14529.097871 -1.936876  \n",
      "=============================================\n",
      "Датасет для предсказания:\n",
      "   case_id season  vehicle_model  vehicle_model_modification    stamp_ns    x  \\\n",
      "0        0  осень              1                           1  5000888836  NaN   \n",
      "1        0  осень              1                           1  5040043013  NaN   \n",
      "2        0  осень              1                           1  5079989560  NaN   \n",
      "3        0  осень              1                           1  5120797471  NaN   \n",
      "4        0  осень              1                           1  5165218288  NaN   \n",
      "\n",
      "     y  yaw  \n",
      "0  NaN  NaN  \n",
      "1  NaN  NaN  \n",
      "2  NaN  NaN  \n",
      "3  NaN  NaN  \n",
      "4  NaN  NaN  \n"
     ]
    }
   ],
   "source": [
    "# Итоговые датасеты для обучения и предсказания\n",
    "print(\"Датасет для обучения:\")\n",
    "print(df_train.head())\n",
    "print(\"=============================================\")\n",
    "print(\"Датасет для предсказания:\")\n",
    "print(df_test.head())"
   ]
  },
  {
   "cell_type": "code",
   "execution_count": 15,
   "metadata": {},
   "outputs": [],
   "source": [
    "# Запись полученного df_train в csv файл\n",
    "df_train.to_csv(\"df_train.csv\", header=True, index=False)"
   ]
  },
  {
   "cell_type": "code",
   "execution_count": 54,
   "metadata": {},
   "outputs": [],
   "source": [
    "# Запись полученного df_test в csv файл\n",
    "df_test.to_csv(\"df_test.csv\", header=True, index=False)"
   ]
  },
  {
   "cell_type": "markdown",
   "metadata": {},
   "source": [
    "## Обучение моделей"
   ]
  },
  {
   "cell_type": "code",
   "execution_count": 11,
   "metadata": {},
   "outputs": [],
   "source": [
    "from sklearn.model_selection import train_test_split\n",
    "from sklearn.metrics import r2_score, mean_absolute_error\n",
    "from catboost import CatBoostRegressor\n",
    "import matplotlib.pyplot as plt"
   ]
  },
  {
   "cell_type": "code",
   "execution_count": 16,
   "metadata": {},
   "outputs": [],
   "source": [
    "# Чтение датасетов\n",
    "df_train = pd.read_csv(\"df_train.csv\")\n",
    "# df_test = pd.read_csv(\"df_test.csv\")\n",
    "\n",
    "# Удаление лишних столбцов\n",
    "df_train = df_train[['case_id', 'season', 'vehicle_model',\n",
    "                     'vehicle_model_modification', 'stamp_ns',\n",
    "                     'x', 'y', 'yaw']]"
   ]
  },
  {
   "cell_type": "code",
   "execution_count": 17,
   "metadata": {},
   "outputs": [],
   "source": [
    "# Данные для обучения\n",
    "X = df_train.drop(['x', 'y', 'yaw'], axis=1)\n",
    "y_1 = df_train[['x']]\n",
    "y_2 = df_train[['y']]\n",
    "y_3 = df_train[['yaw']]"
   ]
  },
  {
   "cell_type": "markdown",
   "metadata": {},
   "source": [
    "### Предсказание 'X'"
   ]
  },
  {
   "cell_type": "code",
   "execution_count": 18,
   "metadata": {},
   "outputs": [],
   "source": [
    "# Разделение данных на обучающие и тестовые\n",
    "# 1-ая модель\n",
    "X_train, X_valid, y_train, y_valid = train_test_split(X, y_1, test_size=0.25, random_state=2024)"
   ]
  },
  {
   "cell_type": "code",
   "execution_count": 19,
   "metadata": {},
   "outputs": [],
   "source": [
    "# Числовые переменные\n",
    "X_nums = ['stamp_ns']\n",
    "# Категориальные переменные\n",
    "cat_features = ['case_id', 'season', 'vehicle_model', 'vehicle_model_modification']\n",
    "# Зависимая переменная\n",
    "y_col = ['x']"
   ]
  },
  {
   "cell_type": "code",
   "execution_count": 24,
   "metadata": {},
   "outputs": [],
   "source": [
    "# Создание модели №1 для предсказания 'X'\n",
    "model_1 = CatBoostRegressor(random_seed=2024, verbose=100, task_type=\"GPU\",\n",
    "                            cat_features=cat_features, loss_function=\"RMSE\",\n",
    "                            early_stopping_rounds=300, iterations=20000,\n",
    "                            learning_rate=0.1)"
   ]
  },
  {
   "cell_type": "code",
   "execution_count": 25,
   "metadata": {},
   "outputs": [
    {
     "name": "stdout",
     "output_type": "stream",
     "text": [
      "0:\tlearn: 7048.7431855\ttest: 7055.0855193\tbest: 7055.0855193 (0)\ttotal: 267ms\tremaining: 1h 29m 8s\n",
      "100:\tlearn: 5757.8719920\ttest: 5759.9664144\tbest: 5759.9664144 (100)\ttotal: 7.66s\tremaining: 25m 9s\n",
      "200:\tlearn: 5690.7077091\ttest: 5692.4359671\tbest: 5692.4359671 (200)\ttotal: 15.4s\tremaining: 25m 12s\n",
      "300:\tlearn: 5637.8044142\ttest: 5639.0999460\tbest: 5639.0999460 (300)\ttotal: 23.3s\tremaining: 25m 22s\n",
      "400:\tlearn: 5597.7042074\ttest: 5598.7824539\tbest: 5598.7824539 (400)\ttotal: 31.4s\tremaining: 25m 33s\n",
      "500:\tlearn: 5558.1993671\ttest: 5558.9210819\tbest: 5558.9210819 (500)\ttotal: 39.7s\tremaining: 25m 43s\n",
      "600:\tlearn: 5526.1297008\ttest: 5526.4934319\tbest: 5526.4934319 (600)\ttotal: 47.8s\tremaining: 25m 42s\n",
      "700:\tlearn: 5494.2971461\ttest: 5494.1702169\tbest: 5494.1702169 (700)\ttotal: 55.8s\tremaining: 25m 35s\n",
      "800:\tlearn: 5456.6726345\ttest: 5455.8062668\tbest: 5455.8062668 (800)\ttotal: 1m 4s\tremaining: 25m 40s\n",
      "900:\tlearn: 5415.3454505\ttest: 5414.1083328\tbest: 5414.1083328 (900)\ttotal: 1m 12s\tremaining: 25m 45s\n",
      "1000:\tlearn: 5379.5469337\ttest: 5378.5395370\tbest: 5378.5395370 (1000)\ttotal: 1m 21s\tremaining: 25m 39s\n",
      "1100:\tlearn: 5345.3070971\ttest: 5344.2087444\tbest: 5344.2087444 (1100)\ttotal: 1m 29s\tremaining: 25m 33s\n",
      "1200:\tlearn: 5312.0471003\ttest: 5310.8794767\tbest: 5310.8794767 (1200)\ttotal: 1m 37s\tremaining: 25m 29s\n",
      "1300:\tlearn: 5276.4949113\ttest: 5275.0243146\tbest: 5275.0243146 (1300)\ttotal: 1m 46s\tremaining: 25m 25s\n",
      "1400:\tlearn: 5239.0423663\ttest: 5237.5388371\tbest: 5237.5388371 (1400)\ttotal: 1m 54s\tremaining: 25m 21s\n",
      "1500:\tlearn: 5203.7242800\ttest: 5202.2040173\tbest: 5202.2040173 (1500)\ttotal: 2m 3s\tremaining: 25m 19s\n",
      "1600:\tlearn: 5172.2983508\ttest: 5170.5456116\tbest: 5170.5456116 (1600)\ttotal: 2m 11s\tremaining: 25m 13s\n",
      "1700:\tlearn: 5140.8935650\ttest: 5139.2563857\tbest: 5139.2563857 (1700)\ttotal: 2m 20s\tremaining: 25m 6s\n",
      "1800:\tlearn: 5107.1748370\ttest: 5106.0549724\tbest: 5106.0549724 (1800)\ttotal: 2m 28s\tremaining: 25m 3s\n",
      "1900:\tlearn: 5072.3076054\ttest: 5071.1270421\tbest: 5071.1270421 (1900)\ttotal: 2m 37s\tremaining: 25m 1s\n",
      "2000:\tlearn: 5044.3047370\ttest: 5043.1980491\tbest: 5043.1980491 (2000)\ttotal: 2m 46s\tremaining: 24m 54s\n",
      "2100:\tlearn: 5010.4007009\ttest: 5009.5785738\tbest: 5009.5785738 (2100)\ttotal: 2m 54s\tremaining: 24m 50s\n",
      "2200:\tlearn: 4976.5053037\ttest: 4975.3127409\tbest: 4975.3127409 (2200)\ttotal: 3m 3s\tremaining: 24m 46s\n",
      "2300:\tlearn: 4943.2162658\ttest: 4941.9789606\tbest: 4941.9789606 (2300)\ttotal: 3m 12s\tremaining: 24m 40s\n",
      "2400:\tlearn: 4912.2371508\ttest: 4910.8843846\tbest: 4910.8843846 (2400)\ttotal: 3m 21s\tremaining: 24m 36s\n",
      "2500:\tlearn: 4883.4827303\ttest: 4882.7645321\tbest: 4882.7645321 (2500)\ttotal: 3m 30s\tremaining: 24m 31s\n",
      "2600:\tlearn: 4852.9247807\ttest: 4852.0437562\tbest: 4852.0437562 (2600)\ttotal: 3m 38s\tremaining: 24m 24s\n",
      "2700:\tlearn: 4825.2159796\ttest: 4824.5925343\tbest: 4824.5925343 (2700)\ttotal: 3m 48s\tremaining: 24m 20s\n",
      "2800:\tlearn: 4792.9904736\ttest: 4793.4352157\tbest: 4793.4352157 (2800)\ttotal: 3m 56s\tremaining: 24m 14s\n",
      "2900:\tlearn: 4767.2702805\ttest: 4768.3213076\tbest: 4768.3213076 (2900)\ttotal: 4m 5s\tremaining: 24m 8s\n",
      "3000:\tlearn: 4737.2813597\ttest: 4738.1612577\tbest: 4738.1612577 (3000)\ttotal: 4m 14s\tremaining: 24m 3s\n",
      "3100:\tlearn: 4707.8140042\ttest: 4708.5858507\tbest: 4708.5858507 (3100)\ttotal: 4m 23s\tremaining: 23m 57s\n",
      "3200:\tlearn: 4682.8903721\ttest: 4683.4527928\tbest: 4683.4527928 (3200)\ttotal: 4m 32s\tremaining: 23m 49s\n",
      "3300:\tlearn: 4655.7263202\ttest: 4656.3956911\tbest: 4656.3956911 (3300)\ttotal: 4m 41s\tremaining: 23m 42s\n",
      "3400:\tlearn: 4630.6469730\ttest: 4630.6884415\tbest: 4630.6884415 (3400)\ttotal: 4m 50s\tremaining: 23m 36s\n",
      "3500:\tlearn: 4599.7658633\ttest: 4600.1779336\tbest: 4600.1779336 (3500)\ttotal: 4m 59s\tremaining: 23m 29s\n",
      "3600:\tlearn: 4573.4441860\ttest: 4574.2178317\tbest: 4574.2178317 (3600)\ttotal: 5m 8s\tremaining: 23m 22s\n",
      "3700:\tlearn: 4546.6834518\ttest: 4547.3163801\tbest: 4547.3163801 (3700)\ttotal: 5m 16s\tremaining: 23m 14s\n",
      "3800:\tlearn: 4521.2361006\ttest: 4522.0239179\tbest: 4522.0239179 (3800)\ttotal: 5m 25s\tremaining: 23m 7s\n",
      "3900:\tlearn: 4497.4015361\ttest: 4497.9489397\tbest: 4497.9489397 (3900)\ttotal: 5m 34s\tremaining: 22m 58s\n",
      "4000:\tlearn: 4465.3908045\ttest: 4465.5571127\tbest: 4465.5571127 (4000)\ttotal: 5m 43s\tremaining: 22m 52s\n",
      "4100:\tlearn: 4443.5356621\ttest: 4443.7058122\tbest: 4443.7058122 (4100)\ttotal: 5m 51s\tremaining: 22m 44s\n",
      "4200:\tlearn: 4420.2484562\ttest: 4420.8349311\tbest: 4420.8349311 (4200)\ttotal: 6m\tremaining: 22m 37s\n",
      "4300:\tlearn: 4390.4018129\ttest: 4391.6279121\tbest: 4391.6279121 (4300)\ttotal: 6m 10s\tremaining: 22m 31s\n",
      "4400:\tlearn: 4370.1174654\ttest: 4371.4831408\tbest: 4371.4831408 (4400)\ttotal: 6m 18s\tremaining: 22m 22s\n",
      "4500:\tlearn: 4349.5994981\ttest: 4351.0471207\tbest: 4351.0471207 (4500)\ttotal: 6m 27s\tremaining: 22m 14s\n",
      "4600:\tlearn: 4328.0061649\ttest: 4329.3140587\tbest: 4329.3140587 (4600)\ttotal: 6m 36s\tremaining: 22m 6s\n",
      "4700:\tlearn: 4305.4339803\ttest: 4306.6476465\tbest: 4306.6476465 (4700)\ttotal: 6m 45s\tremaining: 21m 59s\n",
      "4800:\tlearn: 4278.6563093\ttest: 4279.7090860\tbest: 4279.7090860 (4800)\ttotal: 6m 54s\tremaining: 21m 51s\n",
      "4900:\tlearn: 4257.5462746\ttest: 4258.6790065\tbest: 4258.6790065 (4900)\ttotal: 7m 3s\tremaining: 21m 43s\n",
      "5000:\tlearn: 4234.9521015\ttest: 4236.2449813\tbest: 4236.2449813 (5000)\ttotal: 7m 12s\tremaining: 21m 35s\n",
      "5100:\tlearn: 4210.7462632\ttest: 4211.8545118\tbest: 4211.8545118 (5100)\ttotal: 7m 20s\tremaining: 21m 27s\n",
      "5200:\tlearn: 4187.4755105\ttest: 4188.8632899\tbest: 4188.8632899 (5200)\ttotal: 7m 29s\tremaining: 21m 18s\n",
      "5300:\tlearn: 4163.3750290\ttest: 4164.7659566\tbest: 4164.7659566 (5300)\ttotal: 7m 37s\tremaining: 21m 9s\n",
      "5400:\tlearn: 4141.8893720\ttest: 4142.9212484\tbest: 4142.9212484 (5400)\ttotal: 7m 46s\tremaining: 21m 2s\n",
      "5500:\tlearn: 4118.9683260\ttest: 4120.3998635\tbest: 4120.3998635 (5500)\ttotal: 7m 56s\tremaining: 20m 54s\n",
      "5600:\tlearn: 4097.5222008\ttest: 4099.0914592\tbest: 4099.0914592 (5600)\ttotal: 8m 4s\tremaining: 20m 46s\n",
      "5700:\tlearn: 4076.3838383\ttest: 4077.3805568\tbest: 4077.3805568 (5700)\ttotal: 8m 13s\tremaining: 20m 38s\n",
      "5800:\tlearn: 4056.2744141\ttest: 4057.0022876\tbest: 4057.0022876 (5800)\ttotal: 8m 22s\tremaining: 20m 30s\n",
      "5900:\tlearn: 4035.6426217\ttest: 4036.1076871\tbest: 4036.1076871 (5900)\ttotal: 8m 31s\tremaining: 20m 22s\n",
      "6000:\tlearn: 4013.6311184\ttest: 4014.0149064\tbest: 4014.0149064 (6000)\ttotal: 8m 40s\tremaining: 20m 14s\n",
      "6100:\tlearn: 3989.2950686\ttest: 3989.9592033\tbest: 3989.9592033 (6100)\ttotal: 8m 50s\tremaining: 20m 7s\n",
      "6200:\tlearn: 3970.3039837\ttest: 3970.8756915\tbest: 3970.8756915 (6200)\ttotal: 8m 59s\tremaining: 19m 59s\n",
      "6300:\tlearn: 3951.4879690\ttest: 3952.0666044\tbest: 3952.0666044 (6300)\ttotal: 9m 8s\tremaining: 19m 52s\n",
      "6400:\tlearn: 3930.7534921\ttest: 3931.5181870\tbest: 3931.5181870 (6400)\ttotal: 9m 17s\tremaining: 19m 44s\n",
      "6500:\tlearn: 3912.8680966\ttest: 3913.3323449\tbest: 3913.3323449 (6500)\ttotal: 9m 26s\tremaining: 19m 36s\n",
      "6600:\tlearn: 3893.9708946\ttest: 3894.1889411\tbest: 3894.1889411 (6600)\ttotal: 9m 35s\tremaining: 19m 28s\n",
      "6700:\tlearn: 3873.5672589\ttest: 3874.0029891\tbest: 3874.0029891 (6700)\ttotal: 9m 44s\tremaining: 19m 20s\n",
      "6800:\tlearn: 3853.8215131\ttest: 3854.1044097\tbest: 3854.1044097 (6800)\ttotal: 9m 53s\tremaining: 19m 12s\n",
      "6900:\tlearn: 3837.7621011\ttest: 3837.7809913\tbest: 3837.7809913 (6900)\ttotal: 10m 2s\tremaining: 19m 3s\n",
      "7000:\tlearn: 3819.4779425\ttest: 3819.6504775\tbest: 3819.6504775 (7000)\ttotal: 10m 11s\tremaining: 18m 55s\n",
      "7100:\tlearn: 3800.4102320\ttest: 3800.6013119\tbest: 3800.6013119 (7100)\ttotal: 10m 20s\tremaining: 18m 47s\n",
      "7200:\tlearn: 3781.9987956\ttest: 3782.1813621\tbest: 3782.1813621 (7200)\ttotal: 10m 29s\tremaining: 18m 39s\n",
      "7300:\tlearn: 3763.4640255\ttest: 3763.1903375\tbest: 3763.1903375 (7300)\ttotal: 10m 38s\tremaining: 18m 31s\n",
      "7400:\tlearn: 3743.3370397\ttest: 3743.1626877\tbest: 3743.1626877 (7400)\ttotal: 10m 48s\tremaining: 18m 23s\n",
      "7500:\tlearn: 3726.3170166\ttest: 3726.3503275\tbest: 3726.3503275 (7500)\ttotal: 10m 57s\tremaining: 18m 15s\n",
      "7600:\tlearn: 3711.7733440\ttest: 3711.9553154\tbest: 3711.9553154 (7600)\ttotal: 11m 6s\tremaining: 18m 7s\n",
      "7700:\tlearn: 3697.4067999\ttest: 3697.3523294\tbest: 3697.3523294 (7700)\ttotal: 11m 15s\tremaining: 17m 58s\n",
      "7800:\tlearn: 3681.6418026\ttest: 3681.3697647\tbest: 3681.3697647 (7800)\ttotal: 11m 23s\tremaining: 17m 49s\n",
      "7900:\tlearn: 3664.0194399\ttest: 3663.7140473\tbest: 3663.7140473 (7900)\ttotal: 11m 32s\tremaining: 17m 40s\n",
      "8000:\tlearn: 3645.3075818\ttest: 3644.9110217\tbest: 3644.9110217 (8000)\ttotal: 11m 41s\tremaining: 17m 32s\n",
      "8100:\tlearn: 3629.2946516\ttest: 3628.8116556\tbest: 3628.8116556 (8100)\ttotal: 11m 50s\tremaining: 17m 23s\n",
      "8200:\tlearn: 3610.9722662\ttest: 3610.6468628\tbest: 3610.6468628 (8200)\ttotal: 11m 59s\tremaining: 17m 15s\n",
      "8300:\tlearn: 3595.6066866\ttest: 3595.4548257\tbest: 3595.4548257 (8300)\ttotal: 12m 8s\tremaining: 17m 6s\n",
      "8400:\tlearn: 3580.0941624\ttest: 3579.8733832\tbest: 3579.8733832 (8400)\ttotal: 12m 17s\tremaining: 16m 58s\n",
      "8500:\tlearn: 3562.8118513\ttest: 3562.3485309\tbest: 3562.3485309 (8500)\ttotal: 12m 26s\tremaining: 16m 50s\n",
      "8600:\tlearn: 3546.5132066\ttest: 3545.7734940\tbest: 3545.7734940 (8600)\ttotal: 12m 35s\tremaining: 16m 41s\n",
      "8700:\tlearn: 3531.8985903\ttest: 3531.2244674\tbest: 3531.2244674 (8700)\ttotal: 12m 44s\tremaining: 16m 33s\n",
      "8800:\tlearn: 3515.6270311\ttest: 3515.1060319\tbest: 3515.1060319 (8800)\ttotal: 12m 53s\tremaining: 16m 24s\n",
      "8900:\tlearn: 3498.8023663\ttest: 3498.0704586\tbest: 3498.0704586 (8900)\ttotal: 13m 2s\tremaining: 16m 16s\n",
      "9000:\tlearn: 3484.1289098\ttest: 3483.3340714\tbest: 3483.3340714 (9000)\ttotal: 13m 12s\tremaining: 16m 7s\n",
      "9100:\tlearn: 3467.6644096\ttest: 3466.8028073\tbest: 3466.8028073 (9100)\ttotal: 13m 21s\tremaining: 15m 59s\n",
      "9200:\tlearn: 3450.9155939\ttest: 3449.8960510\tbest: 3449.8960510 (9200)\ttotal: 13m 30s\tremaining: 15m 50s\n",
      "9300:\tlearn: 3435.0740668\ttest: 3433.9573944\tbest: 3433.9573944 (9300)\ttotal: 13m 39s\tremaining: 15m 42s\n",
      "9400:\tlearn: 3417.9492242\ttest: 3416.8735296\tbest: 3416.8735296 (9400)\ttotal: 13m 48s\tremaining: 15m 33s\n",
      "9500:\tlearn: 3404.1824007\ttest: 3403.2869062\tbest: 3403.2869062 (9500)\ttotal: 13m 57s\tremaining: 15m 25s\n",
      "9600:\tlearn: 3389.1266407\ttest: 3388.2414662\tbest: 3388.2414662 (9600)\ttotal: 14m 6s\tremaining: 15m 16s\n",
      "9700:\tlearn: 3372.0540278\ttest: 3371.2237966\tbest: 3371.2237966 (9700)\ttotal: 14m 15s\tremaining: 15m 8s\n",
      "9800:\tlearn: 3357.6011172\ttest: 3356.6650663\tbest: 3356.6650663 (9800)\ttotal: 14m 24s\tremaining: 15m\n",
      "9900:\tlearn: 3342.6700784\ttest: 3341.6398922\tbest: 3341.6398922 (9900)\ttotal: 14m 34s\tremaining: 14m 51s\n",
      "10000:\tlearn: 3328.9319874\ttest: 3327.8839996\tbest: 3327.8839996 (10000)\ttotal: 14m 43s\tremaining: 14m 43s\n",
      "10100:\tlearn: 3313.7125562\ttest: 3312.4217899\tbest: 3312.4217899 (10100)\ttotal: 14m 52s\tremaining: 14m 34s\n",
      "10200:\tlearn: 3300.3336685\ttest: 3298.8560209\tbest: 3298.8560209 (10200)\ttotal: 15m 1s\tremaining: 14m 25s\n",
      "10300:\tlearn: 3286.1533441\ttest: 3284.2559157\tbest: 3284.2559157 (10300)\ttotal: 15m 10s\tremaining: 14m 17s\n",
      "10400:\tlearn: 3272.2986962\ttest: 3270.4641646\tbest: 3270.4641646 (10400)\ttotal: 15m 19s\tremaining: 14m 8s\n",
      "10500:\tlearn: 3259.3161051\ttest: 3257.4014700\tbest: 3257.4014700 (10500)\ttotal: 15m 28s\tremaining: 14m\n",
      "10600:\tlearn: 3246.5151469\ttest: 3244.3800316\tbest: 3244.3800316 (10600)\ttotal: 15m 37s\tremaining: 13m 51s\n",
      "10700:\tlearn: 3232.9719439\ttest: 3230.8117881\tbest: 3230.8117881 (10700)\ttotal: 15m 46s\tremaining: 13m 42s\n",
      "10800:\tlearn: 3219.9937749\ttest: 3217.8260058\tbest: 3217.8260058 (10800)\ttotal: 15m 55s\tremaining: 13m 33s\n",
      "10900:\tlearn: 3206.9708045\ttest: 3204.6646210\tbest: 3204.6646210 (10900)\ttotal: 16m 4s\tremaining: 13m 25s\n",
      "11000:\tlearn: 3194.2293238\ttest: 3192.0658829\tbest: 3192.0658829 (11000)\ttotal: 16m 13s\tremaining: 13m 16s\n",
      "11100:\tlearn: 3179.7548918\ttest: 3177.2625607\tbest: 3177.2625607 (11100)\ttotal: 16m 23s\tremaining: 13m 8s\n",
      "11200:\tlearn: 3167.2879159\ttest: 3164.7106192\tbest: 3164.7106192 (11200)\ttotal: 16m 32s\tremaining: 12m 59s\n",
      "11300:\tlearn: 3155.7114665\ttest: 3153.0166439\tbest: 3153.0166439 (11300)\ttotal: 16m 41s\tremaining: 12m 50s\n",
      "11400:\tlearn: 3144.7532429\ttest: 3141.9567287\tbest: 3141.9567287 (11400)\ttotal: 16m 50s\tremaining: 12m 41s\n",
      "11500:\tlearn: 3134.2735047\ttest: 3131.4276538\tbest: 3131.4276538 (11500)\ttotal: 16m 59s\tremaining: 12m 33s\n",
      "11600:\tlearn: 3122.4574432\ttest: 3119.4671013\tbest: 3119.4671013 (11600)\ttotal: 17m 8s\tremaining: 12m 24s\n",
      "11700:\tlearn: 3108.8045849\ttest: 3105.6288160\tbest: 3105.6288160 (11700)\ttotal: 17m 18s\tremaining: 12m 16s\n",
      "11800:\tlearn: 3096.5572054\ttest: 3093.5539449\tbest: 3093.5539449 (11800)\ttotal: 17m 26s\tremaining: 12m 7s\n",
      "11900:\tlearn: 3082.4953875\ttest: 3079.3701193\tbest: 3079.3701193 (11900)\ttotal: 17m 36s\tremaining: 11m 58s\n",
      "12000:\tlearn: 3069.0541177\ttest: 3065.5918746\tbest: 3065.5918746 (12000)\ttotal: 17m 45s\tremaining: 11m 50s\n",
      "12100:\tlearn: 3056.4278722\ttest: 3053.0205790\tbest: 3053.0205790 (12100)\ttotal: 17m 54s\tremaining: 11m 41s\n",
      "12200:\tlearn: 3045.1423473\ttest: 3041.6232381\tbest: 3041.6232381 (12200)\ttotal: 18m 3s\tremaining: 11m 32s\n",
      "12300:\tlearn: 3032.4320511\ttest: 3028.9337264\tbest: 3028.9337264 (12300)\ttotal: 18m 13s\tremaining: 11m 24s\n",
      "12400:\tlearn: 3021.3393370\ttest: 3017.7832718\tbest: 3017.7832718 (12400)\ttotal: 18m 22s\tremaining: 11m 15s\n",
      "12500:\tlearn: 3010.2556749\ttest: 3006.6085780\tbest: 3006.6085780 (12500)\ttotal: 18m 31s\tremaining: 11m 6s\n",
      "12600:\tlearn: 2999.3243074\ttest: 2995.4600214\tbest: 2995.4600214 (12600)\ttotal: 18m 40s\tremaining: 10m 58s\n",
      "12700:\tlearn: 2987.6044802\ttest: 2983.5875258\tbest: 2983.5875258 (12700)\ttotal: 18m 49s\tremaining: 10m 49s\n",
      "12800:\tlearn: 2976.0539410\ttest: 2971.8709085\tbest: 2971.8709085 (12800)\ttotal: 18m 58s\tremaining: 10m 40s\n",
      "12900:\tlearn: 2963.9846454\ttest: 2959.5930201\tbest: 2959.5930201 (12900)\ttotal: 19m 7s\tremaining: 10m 31s\n",
      "13000:\tlearn: 2952.9319305\ttest: 2948.3268681\tbest: 2948.3268681 (13000)\ttotal: 19m 16s\tremaining: 10m 22s\n",
      "13100:\tlearn: 2943.4632105\ttest: 2938.7380476\tbest: 2938.7380476 (13100)\ttotal: 19m 25s\tremaining: 10m 13s\n",
      "13200:\tlearn: 2932.2609056\ttest: 2927.5288054\tbest: 2927.5288054 (13200)\ttotal: 19m 34s\tremaining: 10m 5s\n",
      "13300:\tlearn: 2921.1777444\ttest: 2916.4033487\tbest: 2916.4033487 (13300)\ttotal: 19m 44s\tremaining: 9m 56s\n",
      "13400:\tlearn: 2911.2556942\ttest: 2906.4699580\tbest: 2906.4699580 (13400)\ttotal: 19m 53s\tremaining: 9m 47s\n",
      "13500:\tlearn: 2900.1598139\ttest: 2895.1189277\tbest: 2895.1189277 (13500)\ttotal: 20m 2s\tremaining: 9m 38s\n",
      "13600:\tlearn: 2887.8310189\ttest: 2882.7333974\tbest: 2882.7333974 (13600)\ttotal: 20m 12s\tremaining: 9m 30s\n",
      "13700:\tlearn: 2877.8666229\ttest: 2872.7979750\tbest: 2872.7979750 (13700)\ttotal: 20m 21s\tremaining: 9m 21s\n",
      "13800:\tlearn: 2866.8982157\ttest: 2861.9022012\tbest: 2861.9022012 (13800)\ttotal: 20m 30s\tremaining: 9m 12s\n",
      "13900:\tlearn: 2856.7083006\ttest: 2851.7489362\tbest: 2851.7489362 (13900)\ttotal: 20m 40s\tremaining: 9m 4s\n",
      "14000:\tlearn: 2845.3756047\ttest: 2840.4318121\tbest: 2840.4318121 (14000)\ttotal: 20m 49s\tremaining: 8m 55s\n",
      "14100:\tlearn: 2835.5864074\ttest: 2830.3224125\tbest: 2830.3224125 (14100)\ttotal: 20m 58s\tremaining: 8m 46s\n",
      "14200:\tlearn: 2824.9875205\ttest: 2819.8699751\tbest: 2819.8699751 (14200)\ttotal: 21m 7s\tremaining: 8m 37s\n",
      "14300:\tlearn: 2815.9605511\ttest: 2810.9771971\tbest: 2810.9771971 (14300)\ttotal: 21m 17s\tremaining: 8m 28s\n",
      "14400:\tlearn: 2805.2918013\ttest: 2800.2667296\tbest: 2800.2667296 (14400)\ttotal: 21m 26s\tremaining: 8m 20s\n",
      "14500:\tlearn: 2794.6324335\ttest: 2789.5128571\tbest: 2789.5128571 (14500)\ttotal: 21m 35s\tremaining: 8m 11s\n",
      "14600:\tlearn: 2785.2813552\ttest: 2780.1876803\tbest: 2780.1876803 (14600)\ttotal: 21m 45s\tremaining: 8m 2s\n",
      "14700:\tlearn: 2775.2994378\ttest: 2769.9464093\tbest: 2769.9464093 (14700)\ttotal: 21m 54s\tremaining: 7m 53s\n",
      "14800:\tlearn: 2765.3119252\ttest: 2759.8948067\tbest: 2759.8948067 (14800)\ttotal: 22m 4s\tremaining: 7m 45s\n",
      "14900:\tlearn: 2755.8321018\ttest: 2750.3736501\tbest: 2750.3736501 (14900)\ttotal: 22m 13s\tremaining: 7m 36s\n",
      "15000:\tlearn: 2745.3513013\ttest: 2739.8455419\tbest: 2739.8455419 (15000)\ttotal: 22m 22s\tremaining: 7m 27s\n",
      "15100:\tlearn: 2736.8296385\ttest: 2731.1868033\tbest: 2731.1868033 (15100)\ttotal: 22m 32s\tremaining: 7m 18s\n",
      "15200:\tlearn: 2727.4056341\ttest: 2721.6664701\tbest: 2721.6664701 (15200)\ttotal: 22m 41s\tremaining: 7m 9s\n",
      "15300:\tlearn: 2717.9553293\ttest: 2712.2408259\tbest: 2712.2408259 (15300)\ttotal: 22m 50s\tremaining: 7m\n",
      "15400:\tlearn: 2709.0540615\ttest: 2703.3452373\tbest: 2703.3452373 (15400)\ttotal: 22m 59s\tremaining: 6m 52s\n",
      "15500:\tlearn: 2699.5556270\ttest: 2693.8525351\tbest: 2693.8525351 (15500)\ttotal: 23m 9s\tremaining: 6m 43s\n",
      "15600:\tlearn: 2690.3263975\ttest: 2684.5513366\tbest: 2684.5513366 (15600)\ttotal: 23m 18s\tremaining: 6m 34s\n",
      "15700:\tlearn: 2681.5278094\ttest: 2675.7558962\tbest: 2675.7558962 (15700)\ttotal: 23m 28s\tremaining: 6m 25s\n",
      "15800:\tlearn: 2671.7659440\ttest: 2666.0547397\tbest: 2666.0547397 (15800)\ttotal: 23m 37s\tremaining: 6m 16s\n",
      "15900:\tlearn: 2663.8291127\ttest: 2658.0185341\tbest: 2658.0185341 (15900)\ttotal: 23m 46s\tremaining: 6m 7s\n",
      "16000:\tlearn: 2654.9974580\ttest: 2649.1030648\tbest: 2649.1030648 (16000)\ttotal: 23m 56s\tremaining: 5m 58s\n",
      "16100:\tlearn: 2646.7515527\ttest: 2640.8058790\tbest: 2640.8058790 (16100)\ttotal: 24m 5s\tremaining: 5m 50s\n",
      "16200:\tlearn: 2637.8959698\ttest: 2631.9758067\tbest: 2631.9758067 (16200)\ttotal: 24m 14s\tremaining: 5m 41s\n",
      "16300:\tlearn: 2628.5578772\ttest: 2622.6152528\tbest: 2622.6152528 (16300)\ttotal: 24m 24s\tremaining: 5m 32s\n",
      "16400:\tlearn: 2620.1781549\ttest: 2614.1602403\tbest: 2614.1602403 (16400)\ttotal: 24m 33s\tremaining: 5m 23s\n",
      "16500:\tlearn: 2610.6940627\ttest: 2604.6582749\tbest: 2604.6582749 (16500)\ttotal: 24m 43s\tremaining: 5m 14s\n",
      "16600:\tlearn: 2603.0283282\ttest: 2596.9585874\tbest: 2596.9585874 (16600)\ttotal: 24m 52s\tremaining: 5m 5s\n",
      "16700:\tlearn: 2594.5151771\ttest: 2588.4022473\tbest: 2588.4022473 (16700)\ttotal: 25m 2s\tremaining: 4m 56s\n",
      "16800:\tlearn: 2586.8963732\ttest: 2580.7578606\tbest: 2580.7578606 (16800)\ttotal: 25m 11s\tremaining: 4m 47s\n",
      "16900:\tlearn: 2579.4513977\ttest: 2573.2519729\tbest: 2573.2519729 (16900)\ttotal: 25m 20s\tremaining: 4m 38s\n",
      "17000:\tlearn: 2572.0130585\ttest: 2565.8539622\tbest: 2565.8539622 (17000)\ttotal: 25m 30s\tremaining: 4m 29s\n",
      "17100:\tlearn: 2563.2880555\ttest: 2557.1785092\tbest: 2557.1785092 (17100)\ttotal: 25m 39s\tremaining: 4m 21s\n",
      "17200:\tlearn: 2554.6518896\ttest: 2548.4254408\tbest: 2548.4254408 (17200)\ttotal: 25m 49s\tremaining: 4m 12s\n",
      "17300:\tlearn: 2546.1321325\ttest: 2539.8561850\tbest: 2539.8561850 (17300)\ttotal: 25m 59s\tremaining: 4m 3s\n",
      "17400:\tlearn: 2537.9901153\ttest: 2531.6561641\tbest: 2531.6561641 (17400)\ttotal: 26m 8s\tremaining: 3m 54s\n",
      "17500:\tlearn: 2528.7598366\ttest: 2522.2271013\tbest: 2522.2271013 (17500)\ttotal: 26m 18s\tremaining: 3m 45s\n",
      "17600:\tlearn: 2520.7346901\ttest: 2514.1576829\tbest: 2514.1576829 (17600)\ttotal: 26m 28s\tremaining: 3m 36s\n",
      "17700:\tlearn: 2512.7485122\ttest: 2506.1313910\tbest: 2506.1313910 (17700)\ttotal: 26m 37s\tremaining: 3m 27s\n",
      "17800:\tlearn: 2505.6532999\ttest: 2499.0541135\tbest: 2499.0541135 (17800)\ttotal: 26m 46s\tremaining: 3m 18s\n",
      "17900:\tlearn: 2497.7139053\ttest: 2490.9684021\tbest: 2490.9684021 (17900)\ttotal: 26m 56s\tremaining: 3m 9s\n",
      "18000:\tlearn: 2489.2304147\ttest: 2482.2489865\tbest: 2482.2489865 (18000)\ttotal: 27m 5s\tremaining: 3m\n",
      "18100:\tlearn: 2481.0117023\ttest: 2473.9327507\tbest: 2473.9327507 (18100)\ttotal: 27m 15s\tremaining: 2m 51s\n",
      "18200:\tlearn: 2474.2555745\ttest: 2467.0956369\tbest: 2467.0956369 (18200)\ttotal: 27m 24s\tremaining: 2m 42s\n",
      "18300:\tlearn: 2466.5299774\ttest: 2459.3260150\tbest: 2459.3260150 (18300)\ttotal: 27m 33s\tremaining: 2m 33s\n",
      "18400:\tlearn: 2458.6975479\ttest: 2451.3986922\tbest: 2451.3986922 (18400)\ttotal: 27m 43s\tremaining: 2m 24s\n",
      "18500:\tlearn: 2451.3219804\ttest: 2444.2095980\tbest: 2444.2095980 (18500)\ttotal: 27m 53s\tremaining: 2m 15s\n",
      "18600:\tlearn: 2444.5593126\ttest: 2437.2997704\tbest: 2437.2997704 (18600)\ttotal: 28m 2s\tremaining: 2m 6s\n",
      "18700:\tlearn: 2436.2634985\ttest: 2428.8384801\tbest: 2428.8384801 (18700)\ttotal: 28m 12s\tremaining: 1m 57s\n",
      "18800:\tlearn: 2428.2184701\ttest: 2420.9289904\tbest: 2420.9289904 (18800)\ttotal: 28m 22s\tremaining: 1m 48s\n",
      "18900:\tlearn: 2420.4394393\ttest: 2413.1710848\tbest: 2413.1710848 (18900)\ttotal: 28m 32s\tremaining: 1m 39s\n",
      "19000:\tlearn: 2412.6250663\ttest: 2405.3668771\tbest: 2405.3668771 (19000)\ttotal: 28m 41s\tremaining: 1m 30s\n",
      "19100:\tlearn: 2404.8780182\ttest: 2397.4473255\tbest: 2397.4473255 (19100)\ttotal: 28m 51s\tremaining: 1m 21s\n",
      "19200:\tlearn: 2396.9390731\ttest: 2389.3875283\tbest: 2389.3875283 (19200)\ttotal: 29m 1s\tremaining: 1m 12s\n",
      "19300:\tlearn: 2389.9680797\ttest: 2382.3933998\tbest: 2382.3933998 (19300)\ttotal: 29m 10s\tremaining: 1m 3s\n",
      "19400:\tlearn: 2383.0821318\ttest: 2375.4640946\tbest: 2375.4640946 (19400)\ttotal: 29m 20s\tremaining: 54.3s\n",
      "19500:\tlearn: 2376.0000853\ttest: 2368.2694886\tbest: 2368.2694886 (19500)\ttotal: 29m 29s\tremaining: 45.3s\n",
      "19600:\tlearn: 2368.4259007\ttest: 2360.7595206\tbest: 2360.7595206 (19600)\ttotal: 29m 39s\tremaining: 36.2s\n",
      "19700:\tlearn: 2360.4392652\ttest: 2352.7022186\tbest: 2352.7022186 (19700)\ttotal: 29m 48s\tremaining: 27.1s\n",
      "19800:\tlearn: 2353.2443705\ttest: 2345.5002131\tbest: 2345.5002131 (19800)\ttotal: 29m 58s\tremaining: 18.1s\n",
      "19900:\tlearn: 2347.0485272\ttest: 2339.3191199\tbest: 2339.3191199 (19900)\ttotal: 30m 8s\tremaining: 8.99s\n",
      "19999:\tlearn: 2340.4160336\ttest: 2332.6402788\tbest: 2332.6402788 (19999)\ttotal: 30m 18s\tremaining: 0us\n",
      "bestTest = 2332.640279\n",
      "bestIteration = 19999\n"
     ]
    },
    {
     "data": {
      "text/plain": [
       "<catboost.core.CatBoostRegressor at 0x150f27e1390>"
      ]
     },
     "execution_count": 25,
     "metadata": {},
     "output_type": "execute_result"
    }
   ],
   "source": [
    "# Обучение модели №1\n",
    "model_1.fit(X_train, y_train, eval_set=(X_valid, y_valid))"
   ]
  },
  {
   "cell_type": "code",
   "execution_count": 26,
   "metadata": {},
   "outputs": [
    {
     "name": "stdout",
     "output_type": "stream",
     "text": [
      "Лучшее качество модели получено на 19999 итерации\n",
      "RMSE на обучающих данных = 2340.42\n",
      "RMSE на валидационных данных = 2332.64\n"
     ]
    }
   ],
   "source": [
    "print(f\"Лучшее качество модели получено на {model_1.best_iteration_} итерации\")\n",
    "print(f\"RMSE на обучающих данных = {model_1.best_score_['learn']['RMSE']:.2f}\")\n",
    "print(f\"RMSE на валидационных данных = {model_1.best_score_['validation']['RMSE']:.2f}\")"
   ]
  },
  {
   "cell_type": "code",
   "execution_count": 27,
   "metadata": {},
   "outputs": [
    {
     "name": "stdout",
     "output_type": "stream",
     "text": [
      "R2 CatBoost модели = 0.90\n",
      "MAE модели = 1437.52\n"
     ]
    }
   ],
   "source": [
    "# Метрики качества модели\n",
    "preds = model_1.predict(X_valid)\n",
    "result = r2_score(y_valid, preds)\n",
    "\n",
    "print(f\"R2 CatBoost модели = {result:.2f}\")\n",
    "\n",
    "# Точность модели с помощью расчета R2 метрики\n",
    "preds = model_1.predict(X_valid)\n",
    "result = mean_absolute_error(y_valid, preds)\n",
    "\n",
    "print(f\"MAE модели = {result:.2f}\")"
   ]
  },
  {
   "cell_type": "markdown",
   "metadata": {},
   "source": [
    "#### Сохранение и загрузка модели"
   ]
  },
  {
   "cell_type": "code",
   "execution_count": 28,
   "metadata": {},
   "outputs": [],
   "source": [
    "model_1.save_model(\"../models/model_1.cbm\")"
   ]
  },
  {
   "cell_type": "code",
   "execution_count": 52,
   "metadata": {},
   "outputs": [],
   "source": [
    "model_1 = CatBoostRegressor().load_model(\"../models/model_1.cbm\")"
   ]
  },
  {
   "cell_type": "markdown",
   "metadata": {},
   "source": [
    "#### График обучения модели"
   ]
  },
  {
   "cell_type": "code",
   "execution_count": 29,
   "metadata": {},
   "outputs": [
    {
     "data": {
      "image/png": "[encoded data removed]",
      "text/plain": [
       "<Figure size 700x400 with 1 Axes>"
      ]
     },
     "metadata": {},
     "output_type": "display_data"
    }
   ],
   "source": [
    "# Информация о значениях RMSE на обучающих данных и валидационных\n",
    "evals_result = model_1.get_evals_result()\n",
    "train_loss = evals_result['learn'][\"RMSE\"]\n",
    "test_loss = evals_result['validation'][\"RMSE\"]\n",
    "\n",
    "\n",
    "# Построение графика обучения модели CatBoost\n",
    "iterations = np.arange(1, len(train_loss) + 1)\n",
    "\n",
    "plt.figure(figsize=(7, 4))\n",
    "plt.plot(iterations, train_loss, label='Значение функции потерь на обучающих данных', color='blue')\n",
    "plt.plot(iterations, test_loss, label='Значение функции потерь на валидационных данных', color='green')\n",
    "plt.xlabel('Итерация')\n",
    "plt.ylabel('Значение функции потерь')\n",
    "plt.title('Процесс обучения модели CatBoost', fontweight=\"bold\")\n",
    "plt.legend()\n",
    "plt.grid()\n",
    "# plt.savefig(\"../Images/Graphs/Training_Progress_CatBoost_Model_v2.png\", dpi=199)\n",
    "plt.show()"
   ]
  },
  {
   "cell_type": "markdown",
   "metadata": {},
   "source": [
    "### Предсказание 'Y'"
   ]
  },
  {
   "cell_type": "code",
   "execution_count": 30,
   "metadata": {},
   "outputs": [],
   "source": [
    "# Разделение данных на обучающие и тестовые\n",
    "# 2-ая модель\n",
    "X_train, X_valid, y_train, y_valid = train_test_split(X, y_2, test_size=0.25, random_state=2024)"
   ]
  },
  {
   "cell_type": "code",
   "execution_count": 31,
   "metadata": {},
   "outputs": [],
   "source": [
    "# Числовые переменные\n",
    "X_nums = ['stamp_ns']\n",
    "# Категориальные переменные\n",
    "cat_features = ['case_id', 'season', 'vehicle_model', 'vehicle_model_modification']\n",
    "# Зависимая переменная\n",
    "y_col = ['y']"
   ]
  },
  {
   "cell_type": "code",
   "execution_count": 33,
   "metadata": {},
   "outputs": [],
   "source": [
    "# Создание модели №1 для предсказания 'X'\n",
    "model_2 = CatBoostRegressor(random_seed=2024, verbose=100, task_type=\"GPU\",\n",
    "                            cat_features=cat_features, loss_function=\"RMSE\",\n",
    "                            early_stopping_rounds=300, iterations=12000,\n",
    "                            learning_rate=0.1)"
   ]
  },
  {
   "cell_type": "code",
   "execution_count": 34,
   "metadata": {},
   "outputs": [
    {
     "name": "stdout",
     "output_type": "stream",
     "text": [
      "0:\tlearn: 15701.1697859\ttest: 15715.5380464\tbest: 15715.5380464 (0)\ttotal: 336ms\tremaining: 1h 7m 15s\n",
      "100:\tlearn: 12713.7708585\ttest: 12722.6898399\tbest: 12722.6898399 (100)\ttotal: 7.88s\tremaining: 15m 28s\n",
      "200:\tlearn: 12570.9361764\ttest: 12578.2833483\tbest: 12578.2833483 (200)\ttotal: 15.7s\tremaining: 15m 23s\n",
      "300:\tlearn: 12475.1602605\ttest: 12480.8819795\tbest: 12480.8819795 (300)\ttotal: 23.7s\tremaining: 15m 21s\n",
      "400:\tlearn: 12399.5388107\ttest: 12405.2785325\tbest: 12405.2785325 (400)\ttotal: 32.1s\tremaining: 15m 29s\n",
      "500:\tlearn: 12314.9190100\ttest: 12318.1295458\tbest: 12318.1295458 (500)\ttotal: 40.4s\tremaining: 15m 26s\n",
      "600:\tlearn: 12222.6370840\ttest: 12225.1982161\tbest: 12225.1982161 (600)\ttotal: 49s\tremaining: 15m 29s\n",
      "700:\tlearn: 12138.4034484\ttest: 12139.6027778\tbest: 12139.6027778 (700)\ttotal: 57.6s\tremaining: 15m 29s\n",
      "800:\tlearn: 12058.4542282\ttest: 12059.0827517\tbest: 12059.0827517 (800)\ttotal: 1m 5s\tremaining: 15m 22s\n",
      "900:\tlearn: 11986.6691324\ttest: 11985.4202728\tbest: 11985.4202728 (900)\ttotal: 1m 14s\tremaining: 15m 18s\n",
      "1000:\tlearn: 11899.3366129\ttest: 11898.1934337\tbest: 11898.1934337 (1000)\ttotal: 1m 23s\tremaining: 15m 17s\n",
      "1100:\tlearn: 11817.8338547\ttest: 11817.0232377\tbest: 11817.0232377 (1100)\ttotal: 1m 32s\tremaining: 15m 11s\n",
      "1200:\tlearn: 11742.0562521\ttest: 11742.1917796\tbest: 11742.1917796 (1200)\ttotal: 1m 40s\tremaining: 15m 7s\n",
      "1300:\tlearn: 11650.9550011\ttest: 11650.8135557\tbest: 11650.8135557 (1300)\ttotal: 1m 49s\tremaining: 15m 1s\n",
      "1400:\tlearn: 11573.1432588\ttest: 11571.7193382\tbest: 11571.7193382 (1400)\ttotal: 1m 58s\tremaining: 14m 53s\n",
      "1500:\tlearn: 11504.0606666\ttest: 11501.9456504\tbest: 11501.9456504 (1500)\ttotal: 2m 6s\tremaining: 14m 46s\n",
      "1600:\tlearn: 11417.3521776\ttest: 11414.7070691\tbest: 11414.7070691 (1600)\ttotal: 2m 15s\tremaining: 14m 41s\n",
      "1700:\tlearn: 11346.1762290\ttest: 11344.7569882\tbest: 11344.7569882 (1700)\ttotal: 2m 24s\tremaining: 14m 33s\n",
      "1800:\tlearn: 11269.9163327\ttest: 11270.6308759\tbest: 11270.6308759 (1800)\ttotal: 2m 33s\tremaining: 14m 26s\n",
      "1900:\tlearn: 11178.8217905\ttest: 11180.4817374\tbest: 11180.4817374 (1900)\ttotal: 2m 42s\tremaining: 14m 21s\n",
      "2000:\tlearn: 11102.5177872\ttest: 11102.5693878\tbest: 11102.5693878 (2000)\ttotal: 2m 51s\tremaining: 14m 16s\n",
      "2100:\tlearn: 11034.9412878\ttest: 11035.0261487\tbest: 11035.0261487 (2100)\ttotal: 3m\tremaining: 14m 8s\n",
      "2200:\tlearn: 10945.5915844\ttest: 10944.8603444\tbest: 10944.8603444 (2200)\ttotal: 3m 9s\tremaining: 14m 3s\n",
      "2300:\tlearn: 10874.8946634\ttest: 10873.9109853\tbest: 10873.9109853 (2300)\ttotal: 3m 18s\tremaining: 13m 55s\n",
      "2400:\tlearn: 10799.7556165\ttest: 10799.9568012\tbest: 10799.9568012 (2400)\ttotal: 3m 27s\tremaining: 13m 49s\n",
      "2500:\tlearn: 10741.8551411\ttest: 10741.5805705\tbest: 10741.5805705 (2500)\ttotal: 3m 36s\tremaining: 13m 41s\n",
      "2600:\tlearn: 10677.7027416\ttest: 10677.1671194\tbest: 10677.1671194 (2600)\ttotal: 3m 45s\tremaining: 13m 33s\n",
      "2700:\tlearn: 10598.1799774\ttest: 10596.6393306\tbest: 10596.6393306 (2700)\ttotal: 3m 54s\tremaining: 13m 26s\n",
      "2800:\tlearn: 10536.8434416\ttest: 10536.3099224\tbest: 10536.3099224 (2800)\ttotal: 4m 2s\tremaining: 13m 17s\n",
      "2900:\tlearn: 10478.4929703\ttest: 10478.0982328\tbest: 10478.0982328 (2900)\ttotal: 4m 11s\tremaining: 13m 9s\n",
      "3000:\tlearn: 10407.1772639\ttest: 10407.8095524\tbest: 10407.8095524 (3000)\ttotal: 4m 20s\tremaining: 13m 1s\n",
      "3100:\tlearn: 10339.9255671\ttest: 10340.5462361\tbest: 10340.5462361 (3100)\ttotal: 4m 29s\tremaining: 12m 54s\n",
      "3200:\tlearn: 10275.2522374\ttest: 10275.7556726\tbest: 10275.7556726 (3200)\ttotal: 4m 38s\tremaining: 12m 45s\n",
      "3300:\tlearn: 10207.8758181\ttest: 10209.0127665\tbest: 10209.0127665 (3300)\ttotal: 4m 47s\tremaining: 12m 38s\n",
      "3400:\tlearn: 10147.2441435\ttest: 10148.4556268\tbest: 10148.4556268 (3400)\ttotal: 4m 56s\tremaining: 12m 30s\n",
      "3500:\tlearn: 10092.8301448\ttest: 10094.5680580\tbest: 10094.5680580 (3500)\ttotal: 5m 5s\tremaining: 12m 22s\n",
      "3600:\tlearn: 10036.0579216\ttest: 10037.5510125\tbest: 10037.5510125 (3600)\ttotal: 5m 14s\tremaining: 12m 14s\n",
      "3700:\tlearn: 9966.7859607\ttest: 9968.7622473\tbest: 9968.7622473 (3700)\ttotal: 5m 24s\tremaining: 12m 6s\n",
      "3800:\tlearn: 9902.2177948\ttest: 9903.9968687\tbest: 9903.9968687 (3800)\ttotal: 5m 33s\tremaining: 11m 58s\n",
      "3900:\tlearn: 9829.4721339\ttest: 9831.7807579\tbest: 9831.7807579 (3900)\ttotal: 5m 42s\tremaining: 11m 50s\n",
      "4000:\tlearn: 9768.0753838\ttest: 9770.2137736\tbest: 9770.2137736 (4000)\ttotal: 5m 51s\tremaining: 11m 42s\n",
      "4100:\tlearn: 9709.1136593\ttest: 9710.5728223\tbest: 9710.5728223 (4100)\ttotal: 6m\tremaining: 11m 33s\n",
      "4200:\tlearn: 9651.8683373\ttest: 9652.9094311\tbest: 9652.9094311 (4200)\ttotal: 6m 8s\tremaining: 11m 24s\n",
      "4300:\tlearn: 9597.9015590\ttest: 9598.6436004\tbest: 9598.6436004 (4300)\ttotal: 6m 17s\tremaining: 11m 15s\n",
      "4400:\tlearn: 9542.5350948\ttest: 9543.0118145\tbest: 9543.0118145 (4400)\ttotal: 6m 26s\tremaining: 11m 7s\n",
      "4500:\tlearn: 9495.5955845\ttest: 9496.1924895\tbest: 9496.1924895 (4500)\ttotal: 6m 35s\tremaining: 10m 58s\n",
      "4600:\tlearn: 9435.1671892\ttest: 9435.6120043\tbest: 9435.6120043 (4600)\ttotal: 6m 44s\tremaining: 10m 50s\n",
      "4700:\tlearn: 9383.9230229\ttest: 9384.1554658\tbest: 9384.1554658 (4700)\ttotal: 6m 53s\tremaining: 10m 42s\n",
      "4800:\tlearn: 9328.8820886\ttest: 9328.5569830\tbest: 9328.5569830 (4800)\ttotal: 7m 2s\tremaining: 10m 33s\n",
      "4900:\tlearn: 9276.2176619\ttest: 9274.2656946\tbest: 9274.2656946 (4900)\ttotal: 7m 11s\tremaining: 10m 25s\n",
      "5000:\tlearn: 9224.7134057\ttest: 9221.9770232\tbest: 9221.9770232 (5000)\ttotal: 7m 20s\tremaining: 10m 16s\n",
      "5100:\tlearn: 9175.6271968\ttest: 9172.6491694\tbest: 9172.6491694 (5100)\ttotal: 7m 29s\tremaining: 10m 7s\n",
      "5200:\tlearn: 9127.3646948\ttest: 9123.4016096\tbest: 9123.4016096 (5200)\ttotal: 7m 38s\tremaining: 9m 59s\n",
      "5300:\tlearn: 9082.0076863\ttest: 9078.0935176\tbest: 9078.0935176 (5300)\ttotal: 7m 47s\tremaining: 9m 51s\n",
      "5400:\tlearn: 9037.7913864\ttest: 9032.4439921\tbest: 9032.4439921 (5400)\ttotal: 7m 56s\tremaining: 9m 42s\n",
      "5500:\tlearn: 8991.7380984\ttest: 8985.8513815\tbest: 8985.8513815 (5500)\ttotal: 8m 6s\tremaining: 9m 34s\n",
      "5600:\tlearn: 8941.5584099\ttest: 8935.3112533\tbest: 8935.3112533 (5600)\ttotal: 8m 15s\tremaining: 9m 26s\n",
      "5700:\tlearn: 8887.3450935\ttest: 8881.2942567\tbest: 8881.2942567 (5700)\ttotal: 8m 24s\tremaining: 9m 17s\n",
      "5800:\tlearn: 8837.2452467\ttest: 8831.5973594\tbest: 8831.5973594 (5800)\ttotal: 8m 33s\tremaining: 9m 8s\n",
      "5900:\tlearn: 8789.0974934\ttest: 8783.8119193\tbest: 8783.8119193 (5900)\ttotal: 8m 42s\tremaining: 8m 59s\n",
      "6000:\tlearn: 8754.5487365\ttest: 8748.6244969\tbest: 8748.6244969 (6000)\ttotal: 8m 51s\tremaining: 8m 51s\n",
      "6100:\tlearn: 8715.5705957\ttest: 8709.0080097\tbest: 8709.0080097 (6100)\ttotal: 9m\tremaining: 8m 42s\n",
      "6200:\tlearn: 8680.0255466\ttest: 8673.3209230\tbest: 8673.3209230 (6200)\ttotal: 9m 9s\tremaining: 8m 34s\n",
      "6300:\tlearn: 8632.2967620\ttest: 8624.9538068\tbest: 8624.9538068 (6300)\ttotal: 9m 18s\tremaining: 8m 25s\n",
      "6400:\tlearn: 8589.1389941\ttest: 8582.6239488\tbest: 8582.6239488 (6400)\ttotal: 9m 28s\tremaining: 8m 16s\n",
      "6500:\tlearn: 8544.1359808\ttest: 8537.3602632\tbest: 8537.3602632 (6500)\ttotal: 9m 37s\tremaining: 8m 8s\n",
      "6600:\tlearn: 8500.3965000\ttest: 8492.9551616\tbest: 8492.9551616 (6600)\ttotal: 9m 46s\tremaining: 7m 59s\n",
      "6700:\tlearn: 8459.0071200\ttest: 8451.4203787\tbest: 8451.4203787 (6700)\ttotal: 9m 55s\tremaining: 7m 50s\n",
      "6800:\tlearn: 8428.8668920\ttest: 8421.0143852\tbest: 8421.0143852 (6800)\ttotal: 10m 4s\tremaining: 7m 41s\n",
      "6900:\tlearn: 8386.8968378\ttest: 8379.3812942\tbest: 8379.3812942 (6900)\ttotal: 10m 13s\tremaining: 7m 32s\n",
      "7000:\tlearn: 8344.7506165\ttest: 8336.7337872\tbest: 8336.7337872 (7000)\ttotal: 10m 21s\tremaining: 7m 24s\n",
      "7100:\tlearn: 8304.8057431\ttest: 8296.8683842\tbest: 8296.8683842 (7100)\ttotal: 10m 30s\tremaining: 7m 15s\n",
      "7200:\tlearn: 8260.7973715\ttest: 8252.4964703\tbest: 8252.4964703 (7200)\ttotal: 10m 39s\tremaining: 7m 6s\n",
      "7300:\tlearn: 8225.0164467\ttest: 8216.5263486\tbest: 8216.5263486 (7300)\ttotal: 10m 48s\tremaining: 6m 57s\n",
      "7400:\tlearn: 8180.8326888\ttest: 8172.2086710\tbest: 8172.2086710 (7400)\ttotal: 10m 58s\tremaining: 6m 48s\n",
      "7500:\tlearn: 8147.3958695\ttest: 8138.4898737\tbest: 8138.4898737 (7500)\ttotal: 11m 7s\tremaining: 6m 40s\n",
      "7600:\tlearn: 8113.7337402\ttest: 8104.8724362\tbest: 8104.8724362 (7600)\ttotal: 11m 16s\tremaining: 6m 31s\n",
      "7700:\tlearn: 8078.1426482\ttest: 8068.7236095\tbest: 8068.7236095 (7700)\ttotal: 11m 25s\tremaining: 6m 22s\n",
      "7800:\tlearn: 8038.0375314\ttest: 8028.1151826\tbest: 8028.1151826 (7800)\ttotal: 11m 34s\tremaining: 6m 13s\n",
      "7900:\tlearn: 8005.4083927\ttest: 7994.9832437\tbest: 7994.9832437 (7900)\ttotal: 11m 43s\tremaining: 6m 5s\n",
      "8000:\tlearn: 7966.1204810\ttest: 7955.2816498\tbest: 7955.2816498 (8000)\ttotal: 11m 53s\tremaining: 5m 56s\n",
      "8100:\tlearn: 7925.2364780\ttest: 7914.6442463\tbest: 7914.6442463 (8100)\ttotal: 12m 2s\tremaining: 5m 47s\n",
      "8200:\tlearn: 7892.0452773\ttest: 7881.1244050\tbest: 7881.1244050 (8200)\ttotal: 12m 11s\tremaining: 5m 38s\n",
      "8300:\tlearn: 7857.6165442\ttest: 7846.6656018\tbest: 7846.6656018 (8300)\ttotal: 12m 20s\tremaining: 5m 29s\n",
      "8400:\tlearn: 7822.4489684\ttest: 7811.6433013\tbest: 7811.6433013 (8400)\ttotal: 12m 29s\tremaining: 5m 21s\n",
      "8500:\tlearn: 7789.0544045\ttest: 7778.1217796\tbest: 7778.1217796 (8500)\ttotal: 12m 38s\tremaining: 5m 12s\n",
      "8600:\tlearn: 7751.9705885\ttest: 7741.3999343\tbest: 7741.3999343 (8600)\ttotal: 12m 47s\tremaining: 5m 3s\n",
      "8700:\tlearn: 7714.0524301\ttest: 7703.6814938\tbest: 7703.6814938 (8700)\ttotal: 12m 56s\tremaining: 4m 54s\n",
      "8800:\tlearn: 7681.5350277\ttest: 7670.5484658\tbest: 7670.5484658 (8800)\ttotal: 13m 5s\tremaining: 4m 45s\n",
      "8900:\tlearn: 7648.0116125\ttest: 7636.7112989\tbest: 7636.7112989 (8900)\ttotal: 13m 15s\tremaining: 4m 36s\n",
      "9000:\tlearn: 7616.8232826\ttest: 7605.5889678\tbest: 7605.5889678 (9000)\ttotal: 13m 24s\tremaining: 4m 27s\n",
      "9100:\tlearn: 7582.6489039\ttest: 7570.5893365\tbest: 7570.5893365 (9100)\ttotal: 13m 32s\tremaining: 4m 18s\n",
      "9200:\tlearn: 7548.2103623\ttest: 7536.0319591\tbest: 7536.0319591 (9200)\ttotal: 13m 42s\tremaining: 4m 10s\n",
      "9300:\tlearn: 7512.5042496\ttest: 7500.1524446\tbest: 7500.1524446 (9300)\ttotal: 13m 51s\tremaining: 4m 1s\n",
      "9400:\tlearn: 7478.6324663\ttest: 7466.4564278\tbest: 7466.4564278 (9400)\ttotal: 14m\tremaining: 3m 52s\n",
      "9500:\tlearn: 7443.1657664\ttest: 7430.7178350\tbest: 7430.7178350 (9500)\ttotal: 14m 9s\tremaining: 3m 43s\n",
      "9600:\tlearn: 7409.6768926\ttest: 7397.2442219\tbest: 7397.2442219 (9600)\ttotal: 14m 18s\tremaining: 3m 34s\n",
      "9700:\tlearn: 7373.8079441\ttest: 7360.8663673\tbest: 7360.8663673 (9700)\ttotal: 14m 28s\tremaining: 3m 25s\n",
      "9800:\tlearn: 7347.2707224\ttest: 7334.4281281\tbest: 7334.4281281 (9800)\ttotal: 14m 36s\tremaining: 3m 16s\n",
      "9900:\tlearn: 7318.7310428\ttest: 7305.8528016\tbest: 7305.8528016 (9900)\ttotal: 14m 46s\tremaining: 3m 7s\n",
      "10000:\tlearn: 7287.7527338\ttest: 7274.5193251\tbest: 7274.5193251 (10000)\ttotal: 14m 55s\tremaining: 2m 58s\n",
      "10100:\tlearn: 7253.8470788\ttest: 7241.1508660\tbest: 7241.1508660 (10100)\ttotal: 15m 4s\tremaining: 2m 50s\n",
      "10200:\tlearn: 7224.0729323\ttest: 7210.9622803\tbest: 7210.9622803 (10200)\ttotal: 15m 13s\tremaining: 2m 41s\n",
      "10300:\tlearn: 7194.9659548\ttest: 7181.6020482\tbest: 7181.6020482 (10300)\ttotal: 15m 23s\tremaining: 2m 32s\n",
      "10400:\tlearn: 7168.6274275\ttest: 7155.2576236\tbest: 7155.2576236 (10400)\ttotal: 15m 32s\tremaining: 2m 23s\n",
      "10500:\tlearn: 7138.8592787\ttest: 7125.3650296\tbest: 7125.3650296 (10500)\ttotal: 15m 41s\tremaining: 2m 14s\n",
      "10600:\tlearn: 7107.0516105\ttest: 7092.9205151\tbest: 7092.9205151 (10600)\ttotal: 15m 51s\tremaining: 2m 5s\n",
      "10700:\tlearn: 7076.2756666\ttest: 7061.5842156\tbest: 7061.5842156 (10700)\ttotal: 16m\tremaining: 1m 56s\n",
      "10800:\tlearn: 7048.4188747\ttest: 7033.3179863\tbest: 7033.3179863 (10800)\ttotal: 16m 9s\tremaining: 1m 47s\n",
      "10900:\tlearn: 7017.6333269\ttest: 7002.3522165\tbest: 7002.3522165 (10900)\ttotal: 16m 18s\tremaining: 1m 38s\n",
      "11000:\tlearn: 6992.5524095\ttest: 6977.6155522\tbest: 6977.6155522 (11000)\ttotal: 16m 28s\tremaining: 1m 29s\n",
      "11100:\tlearn: 6964.0247814\ttest: 6949.2254822\tbest: 6949.2254822 (11100)\ttotal: 16m 37s\tremaining: 1m 20s\n",
      "11200:\tlearn: 6936.6781174\ttest: 6921.5421043\tbest: 6921.5421043 (11200)\ttotal: 16m 47s\tremaining: 1m 11s\n",
      "11300:\tlearn: 6903.7357718\ttest: 6888.4222354\tbest: 6888.4222354 (11300)\ttotal: 16m 56s\tremaining: 1m 2s\n",
      "11400:\tlearn: 6875.1760107\ttest: 6859.6772600\tbest: 6859.6772600 (11400)\ttotal: 17m 5s\tremaining: 53.9s\n",
      "11500:\tlearn: 6848.6009177\ttest: 6832.7058914\tbest: 6832.7058914 (11500)\ttotal: 17m 15s\tremaining: 44.9s\n",
      "11600:\tlearn: 6825.1065341\ttest: 6809.1491848\tbest: 6809.1491848 (11600)\ttotal: 17m 24s\tremaining: 35.9s\n",
      "11700:\tlearn: 6800.3019484\ttest: 6784.4940290\tbest: 6784.4940290 (11700)\ttotal: 17m 33s\tremaining: 26.9s\n",
      "11800:\tlearn: 6773.6133249\ttest: 6757.8794531\tbest: 6757.8794531 (11800)\ttotal: 17m 42s\tremaining: 17.9s\n",
      "11900:\tlearn: 6746.7417628\ttest: 6730.7548823\tbest: 6730.7548823 (11900)\ttotal: 17m 51s\tremaining: 8.92s\n",
      "11999:\tlearn: 6717.3197814\ttest: 6701.2639773\tbest: 6701.2639773 (11999)\ttotal: 18m 1s\tremaining: 0us\n",
      "bestTest = 6701.263977\n",
      "bestIteration = 11999\n"
     ]
    },
    {
     "data": {
      "text/plain": [
       "<catboost.core.CatBoostRegressor at 0x150f27e14e0>"
      ]
     },
     "execution_count": 34,
     "metadata": {},
     "output_type": "execute_result"
    }
   ],
   "source": [
    "# Обучение модели №1\n",
    "model_2.fit(X_train, y_train, eval_set=(X_valid, y_valid))"
   ]
  },
  {
   "cell_type": "code",
   "execution_count": 35,
   "metadata": {},
   "outputs": [
    {
     "name": "stdout",
     "output_type": "stream",
     "text": [
      "Лучшее качество модели получено на 11999 итерации\n",
      "RMSE на обучающих данных = 6717.32\n",
      "RMSE на валидационных данных = 6701.26\n"
     ]
    }
   ],
   "source": [
    "print(f\"Лучшее качество модели получено на {model_2.best_iteration_} итерации\")\n",
    "print(f\"RMSE на обучающих данных = {model_2.best_score_['learn']['RMSE']:.2f}\")\n",
    "print(f\"RMSE на валидационных данных = {model_2.best_score_['validation']['RMSE']:.2f}\")"
   ]
  },
  {
   "cell_type": "code",
   "execution_count": 36,
   "metadata": {},
   "outputs": [
    {
     "name": "stdout",
     "output_type": "stream",
     "text": [
      "R2 CatBoost модели = 0.83\n",
      "MAE модели = 3624.46\n"
     ]
    }
   ],
   "source": [
    "# Метрики качества модели\n",
    "preds = model_2.predict(X_valid)\n",
    "result = r2_score(y_valid, preds)\n",
    "\n",
    "print(f\"R2 CatBoost модели = {result:.2f}\")\n",
    "\n",
    "# Точность модели с помощью расчета R2 метрики\n",
    "preds = model_2.predict(X_valid)\n",
    "result = mean_absolute_error(y_valid, preds)\n",
    "\n",
    "print(f\"MAE модели = {result:.2f}\")"
   ]
  },
  {
   "cell_type": "markdown",
   "metadata": {},
   "source": [
    "#### Сохранение и загрузка модели"
   ]
  },
  {
   "cell_type": "code",
   "execution_count": 37,
   "metadata": {},
   "outputs": [],
   "source": [
    "model_2.save_model(\"../models/model_2.cbm\")"
   ]
  },
  {
   "cell_type": "code",
   "execution_count": 47,
   "metadata": {},
   "outputs": [],
   "source": [
    "model_2 = CatBoostRegressor().load_model(\"../models/model_2.cbm\")"
   ]
  },
  {
   "cell_type": "markdown",
   "metadata": {},
   "source": [
    "#### График обучения модели"
   ]
  },
  {
   "cell_type": "code",
   "execution_count": 38,
   "metadata": {},
   "outputs": [
    {
     "data": {
      "image/png": "[encoded data removed]",
      "text/plain": [
       "<Figure size 700x400 with 1 Axes>"
      ]
     },
     "metadata": {},
     "output_type": "display_data"
    }
   ],
   "source": [
    "# Информация о значениях RMSE на обучающих данных и валидационных\n",
    "evals_result = model_2.get_evals_result()\n",
    "train_loss = evals_result['learn'][\"RMSE\"]\n",
    "test_loss = evals_result['validation'][\"RMSE\"]\n",
    "\n",
    "\n",
    "# Построение графика обучения модели CatBoost\n",
    "iterations = np.arange(1, len(train_loss) + 1)\n",
    "\n",
    "plt.figure(figsize=(7, 4))\n",
    "plt.plot(iterations, train_loss, label='Значение функции потерь на обучающих данных', color='blue')\n",
    "plt.plot(iterations, test_loss, label='Значение функции потерь на валидационных данных', color='green')\n",
    "plt.xlabel('Итерация')\n",
    "plt.ylabel('Значение функции потерь')\n",
    "plt.title('Процесс обучения модели CatBoost', fontweight=\"bold\")\n",
    "plt.legend()\n",
    "plt.grid()\n",
    "# plt.savefig(\"../Images/Graphs/Training_Progress_CatBoost_Model_v2.png\", dpi=199)\n",
    "plt.show()"
   ]
  },
  {
   "cell_type": "markdown",
   "metadata": {},
   "source": [
    "### Предсказание 'yaw'"
   ]
  },
  {
   "cell_type": "code",
   "execution_count": 39,
   "metadata": {},
   "outputs": [],
   "source": [
    "# Разделение данных на обучающие и тестовые\n",
    "# 2-ая модель\n",
    "X_train, X_valid, y_train, y_valid = train_test_split(X, y_3, test_size=0.25, random_state=2024)"
   ]
  },
  {
   "cell_type": "code",
   "execution_count": 40,
   "metadata": {},
   "outputs": [],
   "source": [
    "# Числовые переменные\n",
    "X_nums = ['stamp_ns']\n",
    "# Категориальные переменные\n",
    "cat_features = ['case_id', 'season', 'vehicle_model', 'vehicle_model_modification']\n",
    "# Зависимая переменная\n",
    "y_col = ['yaw']"
   ]
  },
  {
   "cell_type": "code",
   "execution_count": 42,
   "metadata": {},
   "outputs": [],
   "source": [
    "# Создание модели №1 для предсказания 'X'\n",
    "model_3 = CatBoostRegressor(random_seed=2024, verbose=100, task_type=\"GPU\",\n",
    "                            cat_features=cat_features, loss_function=\"RMSE\",\n",
    "                            early_stopping_rounds=300, iterations=12000,\n",
    "                            learning_rate=0.1)"
   ]
  },
  {
   "cell_type": "code",
   "execution_count": 43,
   "metadata": {},
   "outputs": [
    {
     "name": "stdout",
     "output_type": "stream",
     "text": [
      "0:\tlearn: 1.7227149\ttest: 1.7222039\tbest: 1.7222039 (0)\ttotal: 273ms\tremaining: 54m 33s\n",
      "100:\tlearn: 0.9352903\ttest: 0.9305515\tbest: 0.9305515 (100)\ttotal: 10.8s\tremaining: 21m 16s\n",
      "200:\tlearn: 0.9067906\ttest: 0.9017724\tbest: 0.9017724 (200)\ttotal: 21.4s\tremaining: 20m 56s\n",
      "300:\tlearn: 0.8895182\ttest: 0.8842895\tbest: 0.8842895 (300)\ttotal: 32.8s\tremaining: 21m 14s\n",
      "400:\tlearn: 0.8818441\ttest: 0.8765122\tbest: 0.8765122 (400)\ttotal: 42.5s\tremaining: 20m 29s\n",
      "500:\tlearn: 0.8744596\ttest: 0.8689732\tbest: 0.8689732 (500)\ttotal: 52.2s\tremaining: 19m 57s\n",
      "600:\tlearn: 0.8679681\ttest: 0.8623287\tbest: 0.8623287 (600)\ttotal: 1m 1s\tremaining: 19m 34s\n",
      "700:\tlearn: 0.8630845\ttest: 0.8572963\tbest: 0.8572963 (700)\ttotal: 1m 11s\tremaining: 19m 15s\n",
      "800:\tlearn: 0.8575746\ttest: 0.8516873\tbest: 0.8516873 (800)\ttotal: 1m 21s\tremaining: 18m 56s\n",
      "900:\tlearn: 0.8520362\ttest: 0.8459466\tbest: 0.8459466 (900)\ttotal: 1m 31s\tremaining: 18m 42s\n",
      "1000:\tlearn: 0.8463070\ttest: 0.8401221\tbest: 0.8401221 (1000)\ttotal: 1m 41s\tremaining: 18m 30s\n",
      "1100:\tlearn: 0.8410408\ttest: 0.8346739\tbest: 0.8346739 (1100)\ttotal: 1m 51s\tremaining: 18m 19s\n",
      "1200:\tlearn: 0.8355490\ttest: 0.8290014\tbest: 0.8290014 (1200)\ttotal: 2m 1s\tremaining: 18m 12s\n",
      "1300:\tlearn: 0.8306256\ttest: 0.8239661\tbest: 0.8239661 (1300)\ttotal: 2m 11s\tremaining: 18m 3s\n",
      "1400:\tlearn: 0.8257649\ttest: 0.8188565\tbest: 0.8188565 (1400)\ttotal: 2m 22s\tremaining: 17m 55s\n",
      "1500:\tlearn: 0.8216598\ttest: 0.8146040\tbest: 0.8146040 (1500)\ttotal: 2m 32s\tremaining: 17m 46s\n",
      "1600:\tlearn: 0.8178171\ttest: 0.8106729\tbest: 0.8106729 (1600)\ttotal: 2m 42s\tremaining: 17m 34s\n",
      "1700:\tlearn: 0.8135953\ttest: 0.8063061\tbest: 0.8063061 (1700)\ttotal: 2m 52s\tremaining: 17m 26s\n",
      "1800:\tlearn: 0.8099612\ttest: 0.8026056\tbest: 0.8026056 (1800)\ttotal: 3m 2s\tremaining: 17m 14s\n",
      "1900:\tlearn: 0.8060136\ttest: 0.7985314\tbest: 0.7985314 (1900)\ttotal: 3m 13s\tremaining: 17m 6s\n",
      "2000:\tlearn: 0.8028482\ttest: 0.7952478\tbest: 0.7952478 (2000)\ttotal: 3m 23s\tremaining: 16m 56s\n",
      "2100:\tlearn: 0.7990912\ttest: 0.7913559\tbest: 0.7913559 (2100)\ttotal: 3m 34s\tremaining: 16m 49s\n",
      "2200:\tlearn: 0.7955750\ttest: 0.7877364\tbest: 0.7877364 (2200)\ttotal: 3m 44s\tremaining: 16m 37s\n",
      "2300:\tlearn: 0.7921001\ttest: 0.7841321\tbest: 0.7841321 (2300)\ttotal: 3m 54s\tremaining: 16m 29s\n",
      "2400:\tlearn: 0.7886244\ttest: 0.7804740\tbest: 0.7804740 (2400)\ttotal: 4m 5s\tremaining: 16m 21s\n",
      "2500:\tlearn: 0.7854889\ttest: 0.7772441\tbest: 0.7772441 (2500)\ttotal: 4m 15s\tremaining: 16m 11s\n",
      "2600:\tlearn: 0.7819512\ttest: 0.7735694\tbest: 0.7735694 (2600)\ttotal: 4m 26s\tremaining: 16m 3s\n",
      "2700:\tlearn: 0.7788029\ttest: 0.7702859\tbest: 0.7702859 (2700)\ttotal: 4m 37s\tremaining: 15m 55s\n",
      "2800:\tlearn: 0.7758634\ttest: 0.7672548\tbest: 0.7672548 (2800)\ttotal: 4m 47s\tremaining: 15m 45s\n",
      "2900:\tlearn: 0.7733555\ttest: 0.7646139\tbest: 0.7646139 (2900)\ttotal: 4m 58s\tremaining: 15m 35s\n",
      "3000:\tlearn: 0.7708625\ttest: 0.7620398\tbest: 0.7620398 (3000)\ttotal: 5m 8s\tremaining: 15m 25s\n",
      "3100:\tlearn: 0.7681668\ttest: 0.7592883\tbest: 0.7592883 (3100)\ttotal: 5m 19s\tremaining: 15m 15s\n",
      "3200:\tlearn: 0.7655700\ttest: 0.7566281\tbest: 0.7566281 (3200)\ttotal: 5m 29s\tremaining: 15m 4s\n",
      "3300:\tlearn: 0.7630402\ttest: 0.7540608\tbest: 0.7540608 (3300)\ttotal: 5m 39s\tremaining: 14m 54s\n",
      "3400:\tlearn: 0.7604160\ttest: 0.7513671\tbest: 0.7513671 (3400)\ttotal: 5m 49s\tremaining: 14m 44s\n",
      "3500:\tlearn: 0.7577333\ttest: 0.7486070\tbest: 0.7486070 (3500)\ttotal: 6m\tremaining: 14m 34s\n",
      "3600:\tlearn: 0.7554498\ttest: 0.7462937\tbest: 0.7462937 (3600)\ttotal: 6m 10s\tremaining: 14m 24s\n",
      "3700:\tlearn: 0.7530510\ttest: 0.7437751\tbest: 0.7437751 (3700)\ttotal: 6m 21s\tremaining: 14m 15s\n",
      "3800:\tlearn: 0.7507317\ttest: 0.7413579\tbest: 0.7413579 (3800)\ttotal: 6m 32s\tremaining: 14m 5s\n",
      "3900:\tlearn: 0.7481707\ttest: 0.7387169\tbest: 0.7387169 (3900)\ttotal: 6m 43s\tremaining: 13m 57s\n",
      "4000:\tlearn: 0.7458822\ttest: 0.7363908\tbest: 0.7363908 (4000)\ttotal: 6m 53s\tremaining: 13m 47s\n",
      "4100:\tlearn: 0.7435953\ttest: 0.7340917\tbest: 0.7340917 (4100)\ttotal: 7m 4s\tremaining: 13m 37s\n",
      "4200:\tlearn: 0.7414389\ttest: 0.7318692\tbest: 0.7318692 (4200)\ttotal: 7m 15s\tremaining: 13m 27s\n",
      "4300:\tlearn: 0.7392570\ttest: 0.7296206\tbest: 0.7296206 (4300)\ttotal: 7m 25s\tremaining: 13m 17s\n",
      "4400:\tlearn: 0.7370027\ttest: 0.7273012\tbest: 0.7273012 (4400)\ttotal: 7m 35s\tremaining: 13m 7s\n",
      "4500:\tlearn: 0.7347994\ttest: 0.7250481\tbest: 0.7250481 (4500)\ttotal: 7m 46s\tremaining: 12m 56s\n",
      "4600:\tlearn: 0.7323511\ttest: 0.7225011\tbest: 0.7225011 (4600)\ttotal: 7m 56s\tremaining: 12m 46s\n",
      "4700:\tlearn: 0.7304442\ttest: 0.7205534\tbest: 0.7205534 (4700)\ttotal: 8m 6s\tremaining: 12m 35s\n",
      "4800:\tlearn: 0.7282220\ttest: 0.7182758\tbest: 0.7182758 (4800)\ttotal: 8m 17s\tremaining: 12m 26s\n",
      "4900:\tlearn: 0.7261606\ttest: 0.7161363\tbest: 0.7161363 (4900)\ttotal: 8m 28s\tremaining: 12m 16s\n",
      "5000:\tlearn: 0.7243157\ttest: 0.7142738\tbest: 0.7142738 (5000)\ttotal: 8m 39s\tremaining: 12m 6s\n",
      "5100:\tlearn: 0.7224497\ttest: 0.7123353\tbest: 0.7123353 (5100)\ttotal: 8m 50s\tremaining: 11m 57s\n",
      "5200:\tlearn: 0.7202666\ttest: 0.7101156\tbest: 0.7101156 (5200)\ttotal: 9m\tremaining: 11m 46s\n",
      "5300:\tlearn: 0.7183138\ttest: 0.7081231\tbest: 0.7081231 (5300)\ttotal: 9m 11s\tremaining: 11m 36s\n",
      "5400:\tlearn: 0.7164924\ttest: 0.7062513\tbest: 0.7062513 (5400)\ttotal: 9m 21s\tremaining: 11m 26s\n",
      "5500:\tlearn: 0.7144327\ttest: 0.7041461\tbest: 0.7041461 (5500)\ttotal: 9m 32s\tremaining: 11m 16s\n",
      "5600:\tlearn: 0.7126498\ttest: 0.7023335\tbest: 0.7023335 (5600)\ttotal: 9m 43s\tremaining: 11m 6s\n",
      "5700:\tlearn: 0.7106694\ttest: 0.7002951\tbest: 0.7002951 (5700)\ttotal: 9m 54s\tremaining: 10m 56s\n",
      "5800:\tlearn: 0.7088974\ttest: 0.6984924\tbest: 0.6984924 (5800)\ttotal: 10m 5s\tremaining: 10m 47s\n",
      "5900:\tlearn: 0.7070685\ttest: 0.6966285\tbest: 0.6966285 (5900)\ttotal: 10m 16s\tremaining: 10m 37s\n",
      "6000:\tlearn: 0.7051169\ttest: 0.6946395\tbest: 0.6946395 (6000)\ttotal: 10m 27s\tremaining: 10m 27s\n",
      "6100:\tlearn: 0.7030241\ttest: 0.6925061\tbest: 0.6925061 (6100)\ttotal: 10m 38s\tremaining: 10m 17s\n",
      "6200:\tlearn: 0.7012369\ttest: 0.6906797\tbest: 0.6906797 (6200)\ttotal: 10m 49s\tremaining: 10m 7s\n",
      "6300:\tlearn: 0.6995183\ttest: 0.6889100\tbest: 0.6889100 (6300)\ttotal: 11m\tremaining: 9m 57s\n",
      "6400:\tlearn: 0.6978139\ttest: 0.6871389\tbest: 0.6871389 (6400)\ttotal: 11m 11s\tremaining: 9m 46s\n",
      "6500:\tlearn: 0.6962509\ttest: 0.6855000\tbest: 0.6855000 (6500)\ttotal: 11m 22s\tremaining: 9m 36s\n",
      "6600:\tlearn: 0.6947098\ttest: 0.6839159\tbest: 0.6839159 (6600)\ttotal: 11m 33s\tremaining: 9m 26s\n",
      "6700:\tlearn: 0.6930617\ttest: 0.6822002\tbest: 0.6822002 (6700)\ttotal: 11m 44s\tremaining: 9m 16s\n",
      "6800:\tlearn: 0.6915681\ttest: 0.6806599\tbest: 0.6806599 (6800)\ttotal: 11m 54s\tremaining: 9m 6s\n",
      "6900:\tlearn: 0.6899193\ttest: 0.6789664\tbest: 0.6789664 (6899)\ttotal: 12m 5s\tremaining: 8m 56s\n",
      "7000:\tlearn: 0.6882748\ttest: 0.6772911\tbest: 0.6772911 (7000)\ttotal: 12m 16s\tremaining: 8m 46s\n",
      "7100:\tlearn: 0.6865632\ttest: 0.6755597\tbest: 0.6755597 (7100)\ttotal: 12m 27s\tremaining: 8m 35s\n",
      "7200:\tlearn: 0.6850639\ttest: 0.6740296\tbest: 0.6740296 (7200)\ttotal: 12m 39s\tremaining: 8m 25s\n",
      "7300:\tlearn: 0.6834836\ttest: 0.6724010\tbest: 0.6724010 (7300)\ttotal: 12m 49s\tremaining: 8m 15s\n",
      "7400:\tlearn: 0.6819616\ttest: 0.6708150\tbest: 0.6708150 (7400)\ttotal: 13m\tremaining: 8m 5s\n",
      "7500:\tlearn: 0.6805648\ttest: 0.6693577\tbest: 0.6693577 (7500)\ttotal: 13m 11s\tremaining: 7m 54s\n",
      "7600:\tlearn: 0.6791731\ttest: 0.6679212\tbest: 0.6679212 (7600)\ttotal: 13m 22s\tremaining: 7m 44s\n",
      "7700:\tlearn: 0.6776578\ttest: 0.6663771\tbest: 0.6663771 (7700)\ttotal: 13m 33s\tremaining: 7m 33s\n",
      "7800:\tlearn: 0.6761376\ttest: 0.6648144\tbest: 0.6648144 (7800)\ttotal: 13m 44s\tremaining: 7m 23s\n",
      "7900:\tlearn: 0.6747265\ttest: 0.6633814\tbest: 0.6633814 (7900)\ttotal: 13m 54s\tremaining: 7m 13s\n",
      "8000:\tlearn: 0.6732239\ttest: 0.6618582\tbest: 0.6618582 (8000)\ttotal: 14m 5s\tremaining: 7m 2s\n",
      "8100:\tlearn: 0.6717037\ttest: 0.6602784\tbest: 0.6602784 (8100)\ttotal: 14m 16s\tremaining: 6m 52s\n",
      "8200:\tlearn: 0.6702537\ttest: 0.6587842\tbest: 0.6587842 (8200)\ttotal: 14m 27s\tremaining: 6m 41s\n",
      "8300:\tlearn: 0.6688805\ttest: 0.6573763\tbest: 0.6573763 (8300)\ttotal: 14m 38s\tremaining: 6m 31s\n",
      "8400:\tlearn: 0.6675377\ttest: 0.6559938\tbest: 0.6559938 (8400)\ttotal: 14m 49s\tremaining: 6m 21s\n",
      "8500:\tlearn: 0.6662325\ttest: 0.6546669\tbest: 0.6546669 (8500)\ttotal: 15m\tremaining: 6m 10s\n",
      "8600:\tlearn: 0.6649114\ttest: 0.6532964\tbest: 0.6532964 (8600)\ttotal: 15m 11s\tremaining: 6m\n",
      "8700:\tlearn: 0.6637169\ttest: 0.6520485\tbest: 0.6520485 (8700)\ttotal: 15m 22s\tremaining: 5m 49s\n",
      "8800:\tlearn: 0.6623534\ttest: 0.6506539\tbest: 0.6506539 (8800)\ttotal: 15m 33s\tremaining: 5m 39s\n",
      "8900:\tlearn: 0.6610466\ttest: 0.6493084\tbest: 0.6493084 (8900)\ttotal: 15m 44s\tremaining: 5m 28s\n",
      "9000:\tlearn: 0.6598058\ttest: 0.6480449\tbest: 0.6480449 (9000)\ttotal: 15m 55s\tremaining: 5m 18s\n",
      "9100:\tlearn: 0.6584484\ttest: 0.6466524\tbest: 0.6466524 (9100)\ttotal: 16m 6s\tremaining: 5m 7s\n",
      "9200:\tlearn: 0.6571862\ttest: 0.6453565\tbest: 0.6453565 (9200)\ttotal: 16m 17s\tremaining: 4m 57s\n",
      "9300:\tlearn: 0.6559189\ttest: 0.6440631\tbest: 0.6440631 (9300)\ttotal: 16m 28s\tremaining: 4m 46s\n",
      "9400:\tlearn: 0.6544907\ttest: 0.6425879\tbest: 0.6425879 (9400)\ttotal: 16m 38s\tremaining: 4m 36s\n",
      "9500:\tlearn: 0.6532340\ttest: 0.6412938\tbest: 0.6412938 (9500)\ttotal: 16m 49s\tremaining: 4m 25s\n",
      "9600:\tlearn: 0.6519615\ttest: 0.6399590\tbest: 0.6399590 (9600)\ttotal: 17m\tremaining: 4m 15s\n",
      "9700:\tlearn: 0.6508766\ttest: 0.6388411\tbest: 0.6388411 (9700)\ttotal: 17m 11s\tremaining: 4m 4s\n",
      "9800:\tlearn: 0.6496609\ttest: 0.6375622\tbest: 0.6375622 (9800)\ttotal: 17m 22s\tremaining: 3m 53s\n",
      "9900:\tlearn: 0.6484003\ttest: 0.6362331\tbest: 0.6362331 (9900)\ttotal: 17m 33s\tremaining: 3m 43s\n",
      "10000:\tlearn: 0.6472102\ttest: 0.6350075\tbest: 0.6350075 (10000)\ttotal: 17m 44s\tremaining: 3m 32s\n",
      "10100:\tlearn: 0.6459170\ttest: 0.6336808\tbest: 0.6336808 (10100)\ttotal: 17m 55s\tremaining: 3m 22s\n",
      "10200:\tlearn: 0.6447829\ttest: 0.6325192\tbest: 0.6325192 (10200)\ttotal: 18m 6s\tremaining: 3m 11s\n",
      "10300:\tlearn: 0.6436317\ttest: 0.6313503\tbest: 0.6313503 (10300)\ttotal: 18m 17s\tremaining: 3m 1s\n",
      "10400:\tlearn: 0.6425713\ttest: 0.6302517\tbest: 0.6302517 (10400)\ttotal: 18m 28s\tremaining: 2m 50s\n",
      "10500:\tlearn: 0.6412603\ttest: 0.6288868\tbest: 0.6288868 (10500)\ttotal: 18m 39s\tremaining: 2m 39s\n",
      "10600:\tlearn: 0.6401809\ttest: 0.6277800\tbest: 0.6277800 (10600)\ttotal: 18m 50s\tremaining: 2m 29s\n",
      "10700:\tlearn: 0.6389933\ttest: 0.6265319\tbest: 0.6265319 (10700)\ttotal: 19m 1s\tremaining: 2m 18s\n",
      "10800:\tlearn: 0.6378229\ttest: 0.6253173\tbest: 0.6253173 (10800)\ttotal: 19m 13s\tremaining: 2m 8s\n",
      "10900:\tlearn: 0.6367958\ttest: 0.6242523\tbest: 0.6242523 (10900)\ttotal: 19m 24s\tremaining: 1m 57s\n",
      "11000:\tlearn: 0.6358347\ttest: 0.6232760\tbest: 0.6232760 (11000)\ttotal: 19m 35s\tremaining: 1m 46s\n",
      "11100:\tlearn: 0.6346870\ttest: 0.6220896\tbest: 0.6220896 (11100)\ttotal: 19m 46s\tremaining: 1m 36s\n",
      "11200:\tlearn: 0.6335662\ttest: 0.6209065\tbest: 0.6209065 (11200)\ttotal: 19m 57s\tremaining: 1m 25s\n",
      "11300:\tlearn: 0.6324763\ttest: 0.6197953\tbest: 0.6197953 (11300)\ttotal: 20m 8s\tremaining: 1m 14s\n",
      "11400:\tlearn: 0.6314069\ttest: 0.6186876\tbest: 0.6186876 (11400)\ttotal: 20m 19s\tremaining: 1m 4s\n",
      "11500:\tlearn: 0.6303255\ttest: 0.6175713\tbest: 0.6175713 (11500)\ttotal: 20m 30s\tremaining: 53.4s\n",
      "11600:\tlearn: 0.6292204\ttest: 0.6164273\tbest: 0.6164273 (11600)\ttotal: 20m 41s\tremaining: 42.7s\n",
      "11700:\tlearn: 0.6282149\ttest: 0.6153932\tbest: 0.6153932 (11700)\ttotal: 20m 51s\tremaining: 32s\n",
      "11800:\tlearn: 0.6271102\ttest: 0.6142574\tbest: 0.6142574 (11800)\ttotal: 21m 3s\tremaining: 21.3s\n",
      "11900:\tlearn: 0.6260966\ttest: 0.6132353\tbest: 0.6132353 (11900)\ttotal: 21m 14s\tremaining: 10.6s\n",
      "11999:\tlearn: 0.6250210\ttest: 0.6121447\tbest: 0.6121447 (11999)\ttotal: 21m 25s\tremaining: 0us\n",
      "bestTest = 0.612144697\n",
      "bestIteration = 11999\n"
     ]
    },
    {
     "data": {
      "text/plain": [
       "<catboost.core.CatBoostRegressor at 0x151e6353a90>"
      ]
     },
     "execution_count": 43,
     "metadata": {},
     "output_type": "execute_result"
    }
   ],
   "source": [
    "# Обучение модели №1\n",
    "model_3.fit(X_train, y_train, eval_set=(X_valid, y_valid))"
   ]
  },
  {
   "cell_type": "code",
   "execution_count": 44,
   "metadata": {},
   "outputs": [
    {
     "name": "stdout",
     "output_type": "stream",
     "text": [
      "Лучшее качество модели получено на 11999 итерации\n",
      "RMSE на обучающих данных = 0.63\n",
      "RMSE на валидационных данных = 0.61\n"
     ]
    }
   ],
   "source": [
    "print(f\"Лучшее качество модели получено на {model_3.best_iteration_} итерации\")\n",
    "print(f\"RMSE на обучающих данных = {model_3.best_score_['learn']['RMSE']:.2f}\")\n",
    "print(f\"RMSE на валидационных данных = {model_3.best_score_['validation']['RMSE']:.2f}\")"
   ]
  },
  {
   "cell_type": "code",
   "execution_count": 45,
   "metadata": {},
   "outputs": [
    {
     "name": "stdout",
     "output_type": "stream",
     "text": [
      "R2 CatBoost модели = 0.89\n",
      "MAE модели = 0.47\n"
     ]
    }
   ],
   "source": [
    "# Метрики качества модели\n",
    "preds = model_3.predict(X_valid)\n",
    "result = r2_score(y_valid, preds)\n",
    "\n",
    "print(f\"R2 CatBoost модели = {result:.2f}\")\n",
    "\n",
    "# Точность модели с помощью расчета R2 метрики\n",
    "preds = model_3.predict(X_valid)\n",
    "result = mean_absolute_error(y_valid, preds)\n",
    "\n",
    "print(f\"MAE модели = {result:.2f}\")"
   ]
  },
  {
   "cell_type": "markdown",
   "metadata": {},
   "source": [
    "#### Сохранение и загрузка модели"
   ]
  },
  {
   "cell_type": "code",
   "execution_count": 46,
   "metadata": {},
   "outputs": [],
   "source": [
    "model_3.save_model(\"../models/model_3.cbm\")"
   ]
  },
  {
   "cell_type": "code",
   "execution_count": null,
   "metadata": {},
   "outputs": [],
   "source": [
    "model_3 = CatBoostRegressor().load_model(\"../models/model_3.cbm\")"
   ]
  },
  {
   "cell_type": "markdown",
   "metadata": {},
   "source": [
    "#### График обучения модели"
   ]
  },
  {
   "cell_type": "code",
   "execution_count": 48,
   "metadata": {},
   "outputs": [
    {
     "data": {
      "image/png": "[encoded data removed]",
      "text/plain": [
       "<Figure size 700x400 with 1 Axes>"
      ]
     },
     "metadata": {},
     "output_type": "display_data"
    }
   ],
   "source": [
    "# Информация о значениях RMSE на обучающих данных и валидационных\n",
    "evals_result = model_3.get_evals_result()\n",
    "train_loss = evals_result['learn'][\"RMSE\"]\n",
    "test_loss = evals_result['validation'][\"RMSE\"]\n",
    "\n",
    "\n",
    "# Построение графика обучения модели CatBoost\n",
    "iterations = np.arange(1, len(train_loss) + 1)\n",
    "\n",
    "plt.figure(figsize=(7, 4))\n",
    "plt.plot(iterations, train_loss, label='Значение функции потерь на обучающих данных', color='blue')\n",
    "plt.plot(iterations, test_loss, label='Значение функции потерь на валидационных данных', color='green')\n",
    "plt.xlabel('Итерация')\n",
    "plt.ylabel('Значение функции потерь')\n",
    "plt.title('Процесс обучения модели CatBoost', fontweight=\"bold\")\n",
    "plt.legend()\n",
    "plt.grid()\n",
    "# plt.savefig(\"../Images/Graphs/Training_Progress_CatBoost_Model_v2.png\", dpi=199)\n",
    "plt.show()"
   ]
  },
  {
   "cell_type": "markdown",
   "metadata": {},
   "source": [
    "## Предсказание данных"
   ]
  },
  {
   "cell_type": "code",
   "execution_count": 57,
   "metadata": {},
   "outputs": [
    {
     "data": {
      "text/html": [
       "<div>\n",
       "<style scoped>\n",
       "    .dataframe tbody tr th:only-of-type {\n",
       "        vertical-align: middle;\n",
       "    }\n",
       "\n",
       "    .dataframe tbody tr th {\n",
       "        vertical-align: top;\n",
       "    }\n",
       "\n",
       "    .dataframe thead th {\n",
       "        text-align: right;\n",
       "    }\n",
       "</style>\n",
       "<table border=\"1\" class=\"dataframe\">\n",
       "  <thead>\n",
       "    <tr style=\"text-align: right;\">\n",
       "      <th></th>\n",
       "      <th>case_id</th>\n",
       "      <th>season</th>\n",
       "      <th>vehicle_model</th>\n",
       "      <th>vehicle_model_modification</th>\n",
       "      <th>stamp_ns</th>\n",
       "      <th>x</th>\n",
       "      <th>y</th>\n",
       "      <th>yaw</th>\n",
       "    </tr>\n",
       "  </thead>\n",
       "  <tbody>\n",
       "    <tr>\n",
       "      <th>0</th>\n",
       "      <td>0</td>\n",
       "      <td>осень</td>\n",
       "      <td>1</td>\n",
       "      <td>1</td>\n",
       "      <td>5000888836</td>\n",
       "      <td>NaN</td>\n",
       "      <td>NaN</td>\n",
       "      <td>NaN</td>\n",
       "    </tr>\n",
       "    <tr>\n",
       "      <th>1</th>\n",
       "      <td>0</td>\n",
       "      <td>осень</td>\n",
       "      <td>1</td>\n",
       "      <td>1</td>\n",
       "      <td>5040043013</td>\n",
       "      <td>NaN</td>\n",
       "      <td>NaN</td>\n",
       "      <td>NaN</td>\n",
       "    </tr>\n",
       "    <tr>\n",
       "      <th>2</th>\n",
       "      <td>0</td>\n",
       "      <td>осень</td>\n",
       "      <td>1</td>\n",
       "      <td>1</td>\n",
       "      <td>5079989560</td>\n",
       "      <td>NaN</td>\n",
       "      <td>NaN</td>\n",
       "      <td>NaN</td>\n",
       "    </tr>\n",
       "    <tr>\n",
       "      <th>3</th>\n",
       "      <td>0</td>\n",
       "      <td>осень</td>\n",
       "      <td>1</td>\n",
       "      <td>1</td>\n",
       "      <td>5120797471</td>\n",
       "      <td>NaN</td>\n",
       "      <td>NaN</td>\n",
       "      <td>NaN</td>\n",
       "    </tr>\n",
       "    <tr>\n",
       "      <th>4</th>\n",
       "      <td>0</td>\n",
       "      <td>осень</td>\n",
       "      <td>1</td>\n",
       "      <td>1</td>\n",
       "      <td>5165218288</td>\n",
       "      <td>NaN</td>\n",
       "      <td>NaN</td>\n",
       "      <td>NaN</td>\n",
       "    </tr>\n",
       "  </tbody>\n",
       "</table>\n",
       "</div>"
      ],
      "text/plain": [
       "   case_id season  vehicle_model  vehicle_model_modification    stamp_ns    x  \\\n",
       "0        0  осень              1                           1  5000888836  NaN   \n",
       "1        0  осень              1                           1  5040043013  NaN   \n",
       "2        0  осень              1                           1  5079989560  NaN   \n",
       "3        0  осень              1                           1  5120797471  NaN   \n",
       "4        0  осень              1                           1  5165218288  NaN   \n",
       "\n",
       "     y  yaw  \n",
       "0  NaN  NaN  \n",
       "1  NaN  NaN  \n",
       "2  NaN  NaN  \n",
       "3  NaN  NaN  \n",
       "4  NaN  NaN  "
      ]
     },
     "execution_count": 57,
     "metadata": {},
     "output_type": "execute_result"
    }
   ],
   "source": [
    "df_test.head()"
   ]
  },
  {
   "cell_type": "code",
   "execution_count": 60,
   "metadata": {},
   "outputs": [],
   "source": [
    "# Предсказание 'X' 1-ой моделью\n",
    "X_test = df_test.drop(['x', 'y', 'yaw'], axis=1)\n",
    "x_preds = model_1.predict(X_test)\n",
    "y_preds = model_2.predict(X_test)\n",
    "yaw_preds = model_3.predict(X_test)"
   ]
  },
  {
   "cell_type": "code",
   "execution_count": 63,
   "metadata": {},
   "outputs": [],
   "source": [
    "# Формирование predictions\n",
    "predictions = df_test\n",
    "predictions['x'] = x_preds\n",
    "predictions['y'] = y_preds\n",
    "predictions['yaw'] = yaw_preds"
   ]
  },
  {
   "cell_type": "code",
   "execution_count": 64,
   "metadata": {},
   "outputs": [
    {
     "data": {
      "text/html": [
       "<div>\n",
       "<style scoped>\n",
       "    .dataframe tbody tr th:only-of-type {\n",
       "        vertical-align: middle;\n",
       "    }\n",
       "\n",
       "    .dataframe tbody tr th {\n",
       "        vertical-align: top;\n",
       "    }\n",
       "\n",
       "    .dataframe thead th {\n",
       "        text-align: right;\n",
       "    }\n",
       "</style>\n",
       "<table border=\"1\" class=\"dataframe\">\n",
       "  <thead>\n",
       "    <tr style=\"text-align: right;\">\n",
       "      <th></th>\n",
       "      <th>case_id</th>\n",
       "      <th>season</th>\n",
       "      <th>vehicle_model</th>\n",
       "      <th>vehicle_model_modification</th>\n",
       "      <th>stamp_ns</th>\n",
       "      <th>x</th>\n",
       "      <th>y</th>\n",
       "      <th>yaw</th>\n",
       "    </tr>\n",
       "  </thead>\n",
       "  <tbody>\n",
       "    <tr>\n",
       "      <th>0</th>\n",
       "      <td>0</td>\n",
       "      <td>осень</td>\n",
       "      <td>1</td>\n",
       "      <td>1</td>\n",
       "      <td>5000888836</td>\n",
       "      <td>8598.27537</td>\n",
       "      <td>-80602.391069</td>\n",
       "      <td>-2.399783</td>\n",
       "    </tr>\n",
       "    <tr>\n",
       "      <th>1</th>\n",
       "      <td>0</td>\n",
       "      <td>осень</td>\n",
       "      <td>1</td>\n",
       "      <td>1</td>\n",
       "      <td>5040043013</td>\n",
       "      <td>8598.27537</td>\n",
       "      <td>-80602.391069</td>\n",
       "      <td>-2.399783</td>\n",
       "    </tr>\n",
       "    <tr>\n",
       "      <th>2</th>\n",
       "      <td>0</td>\n",
       "      <td>осень</td>\n",
       "      <td>1</td>\n",
       "      <td>1</td>\n",
       "      <td>5079989560</td>\n",
       "      <td>8598.27537</td>\n",
       "      <td>-80602.391069</td>\n",
       "      <td>-2.399783</td>\n",
       "    </tr>\n",
       "    <tr>\n",
       "      <th>3</th>\n",
       "      <td>0</td>\n",
       "      <td>осень</td>\n",
       "      <td>1</td>\n",
       "      <td>1</td>\n",
       "      <td>5120797471</td>\n",
       "      <td>8598.27537</td>\n",
       "      <td>-80602.391069</td>\n",
       "      <td>-2.399783</td>\n",
       "    </tr>\n",
       "    <tr>\n",
       "      <th>4</th>\n",
       "      <td>0</td>\n",
       "      <td>осень</td>\n",
       "      <td>1</td>\n",
       "      <td>1</td>\n",
       "      <td>5165218288</td>\n",
       "      <td>8598.27537</td>\n",
       "      <td>-80602.391069</td>\n",
       "      <td>-2.399783</td>\n",
       "    </tr>\n",
       "  </tbody>\n",
       "</table>\n",
       "</div>"
      ],
      "text/plain": [
       "   case_id season  vehicle_model  vehicle_model_modification    stamp_ns  \\\n",
       "0        0  осень              1                           1  5000888836   \n",
       "1        0  осень              1                           1  5040043013   \n",
       "2        0  осень              1                           1  5079989560   \n",
       "3        0  осень              1                           1  5120797471   \n",
       "4        0  осень              1                           1  5165218288   \n",
       "\n",
       "            x             y       yaw  \n",
       "0  8598.27537 -80602.391069 -2.399783  \n",
       "1  8598.27537 -80602.391069 -2.399783  \n",
       "2  8598.27537 -80602.391069 -2.399783  \n",
       "3  8598.27537 -80602.391069 -2.399783  \n",
       "4  8598.27537 -80602.391069 -2.399783  "
      ]
     },
     "execution_count": 64,
     "metadata": {},
     "output_type": "execute_result"
    }
   ],
   "source": [
    "predictions.head()"
   ]
  },
  {
   "cell_type": "code",
   "execution_count": 66,
   "metadata": {},
   "outputs": [],
   "source": [
    "# Удаление лишних столбцов\n",
    "predictions = predictions.drop(['season', 'vehicle_model', 'vehicle_model_modification'], axis=1)"
   ]
  },
  {
   "cell_type": "code",
   "execution_count": 75,
   "metadata": {},
   "outputs": [],
   "source": [
    "# Переименование столбца case_id в testcase_id\n",
    "predictions.rename(columns={\"case_id\": \"testcase_id\"}, inplace=True)"
   ]
  },
  {
   "cell_type": "code",
   "execution_count": 77,
   "metadata": {},
   "outputs": [],
   "source": [
    "# Запись в csv\n",
    "predictions.to_csv(\"../predictions.csv\", compression='gzip', index=False, header=True)"
   ]
  }
 ],
 "metadata": {
  "kernelspec": {
   "display_name": "venv",
   "language": "python",
   "name": "python3"
  },
  "language_info": {
   "codemirror_mode": {
    "name": "ipython",
    "version": 3
   },
   "file_extension": ".py",
   "mimetype": "text/x-python",
   "name": "python",
   "nbconvert_exporter": "python",
   "pygments_lexer": "ipython3",
   "version": "3.10.11"
  }
 },
 "nbformat": 4,
 "nbformat_minor": 2
}
